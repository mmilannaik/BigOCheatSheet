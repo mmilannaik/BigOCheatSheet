{
  "cells": [
    {
      "cell_type": "markdown",
      "metadata": {
        "id": "view-in-github",
        "colab_type": "text"
      },
      "source": [
        "<a href=\"https://colab.research.google.com/github/mmilannaik/BigOCheatSheet/blob/master/W1_Interview_coding.ipynb\" target=\"_parent\"><img src=\"https://colab.research.google.com/assets/colab-badge.svg\" alt=\"Open In Colab\"/></a>"
      ]
    },
    {
      "cell_type": "markdown",
      "id": "OceIT5y-AR3v",
      "metadata": {
        "id": "OceIT5y-AR3v"
      },
      "source": [
        "# Theoretical Concepts"
      ]
    },
    {
      "cell_type": "markdown",
      "id": "qy_VZtdAAWvb",
      "metadata": {
        "id": "qy_VZtdAAWvb"
      },
      "source": []
    },
    {
      "cell_type": "markdown",
      "id": "AxRM636-Da91",
      "metadata": {
        "id": "AxRM636-Da91"
      },
      "source": [
        "## Repr"
      ]
    },
    {
      "cell_type": "code",
      "execution_count": null,
      "id": "OWAGrPcHAQ3Y",
      "metadata": {
        "id": "OWAGrPcHAQ3Y"
      },
      "outputs": [],
      "source": [
        "class Person:\n",
        "  def __init__(self,name,age,gender):\n",
        "    self.name = name\n",
        "    self.age = age\n",
        "    self.gender = gender\n",
        "\n",
        "  def __repr__(self):\n",
        "    return f\"Person(name='{self.name}, age={self.age}, gender={self.gender})\""
      ]
    },
    {
      "cell_type": "code",
      "execution_count": null,
      "id": "JeaNdjQ_Atxs",
      "metadata": {
        "id": "JeaNdjQ_Atxs"
      },
      "outputs": [],
      "source": [
        "jack = Person(\"Jack\",25,\"Male\")"
      ]
    },
    {
      "cell_type": "code",
      "execution_count": null,
      "id": "uTvuxDmmBD7Y",
      "metadata": {
        "colab": {
          "base_uri": "https://localhost:8080/"
        },
        "id": "uTvuxDmmBD7Y",
        "outputId": "d191e7a3-592b-4def-e0ec-970404b71ef4"
      },
      "outputs": [
        {
          "data": {
            "text/plain": [
              "Person(name='Jack, age=25, gender=Male)"
            ]
          },
          "execution_count": 3,
          "metadata": {},
          "output_type": "execute_result"
        }
      ],
      "source": [
        "jack"
      ]
    },
    {
      "cell_type": "markdown",
      "id": "GaMK6Fl9AQdU",
      "metadata": {
        "id": "GaMK6Fl9AQdU"
      },
      "source": []
    },
    {
      "cell_type": "markdown",
      "id": "EPjFbn_WDeOd",
      "metadata": {
        "id": "EPjFbn_WDeOd"
      },
      "source": [
        "## Decorator"
      ]
    },
    {
      "cell_type": "code",
      "execution_count": null,
      "id": "DRlZFL4EDvW7",
      "metadata": {
        "id": "DRlZFL4EDvW7"
      },
      "outputs": [],
      "source": [
        "# decorator\n",
        "def dec_func(func):\n",
        "  def wrapper():\n",
        "    print(\"This is decorator\")\n",
        "    func()\n",
        "  return wrapper"
      ]
    },
    {
      "cell_type": "code",
      "execution_count": null,
      "id": "l0lhvdBJDgLS",
      "metadata": {
        "id": "l0lhvdBJDgLS"
      },
      "outputs": [],
      "source": [
        "def orig_func():\n",
        "  print(\"This is original function\")"
      ]
    },
    {
      "cell_type": "code",
      "execution_count": null,
      "id": "2qMQvu5oDgHv",
      "metadata": {
        "colab": {
          "base_uri": "https://localhost:8080/"
        },
        "id": "2qMQvu5oDgHv",
        "outputId": "74a95f6f-b86b-4e52-b4db-b61ec72434d2"
      },
      "outputs": [
        {
          "name": "stdout",
          "output_type": "stream",
          "text": [
            "This is original function\n"
          ]
        }
      ],
      "source": [
        "orig_func()"
      ]
    },
    {
      "cell_type": "code",
      "execution_count": null,
      "id": "5Fa0ALuRDvTZ",
      "metadata": {
        "id": "5Fa0ALuRDvTZ"
      },
      "outputs": [],
      "source": [
        "@dec_func\n",
        "def orig_func():\n",
        "  print(\"This is original function\")"
      ]
    },
    {
      "cell_type": "code",
      "execution_count": null,
      "id": "OyJRQ-3VDvRT",
      "metadata": {
        "colab": {
          "base_uri": "https://localhost:8080/"
        },
        "id": "OyJRQ-3VDvRT",
        "outputId": "a3e42747-adee-470b-bb73-53c19884882b"
      },
      "outputs": [
        {
          "name": "stdout",
          "output_type": "stream",
          "text": [
            "This is decorator\n",
            "This is original function\n"
          ]
        }
      ],
      "source": [
        "orig_func()"
      ]
    },
    {
      "cell_type": "markdown",
      "id": "2-jFR3y2N_I_",
      "metadata": {
        "id": "2-jFR3y2N_I_"
      },
      "source": [
        "## Scopes"
      ]
    },
    {
      "cell_type": "code",
      "execution_count": null,
      "id": "rY70hneqN_-R",
      "metadata": {
        "id": "rY70hneqN_-R"
      },
      "outputs": [],
      "source": []
    },
    {
      "cell_type": "code",
      "execution_count": null,
      "id": "82kffJ0AOB-y",
      "metadata": {
        "id": "82kffJ0AOB-y"
      },
      "outputs": [],
      "source": []
    },
    {
      "cell_type": "markdown",
      "id": "Lxga7FUlIby5",
      "metadata": {
        "id": "Lxga7FUlIby5"
      },
      "source": [
        "# Week 1"
      ]
    },
    {
      "cell_type": "markdown",
      "id": "p_mKtaiTIjoX",
      "metadata": {
        "id": "p_mKtaiTIjoX"
      },
      "source": [
        "## String Reverse"
      ]
    },
    {
      "cell_type": "code",
      "execution_count": null,
      "id": "M7HO9lNCIP0p",
      "metadata": {
        "id": "M7HO9lNCIP0p"
      },
      "outputs": [],
      "source": [
        "Input: \"EYInterview\"\n",
        "Output: \"weivretnIYE\""
      ]
    },
    {
      "cell_type": "code",
      "execution_count": null,
      "id": "3K7DINTMVkP1",
      "metadata": {
        "id": "3K7DINTMVkP1"
      },
      "outputs": [],
      "source": [
        "def reverse_string(s):\n",
        "  char_list = list(s)\n",
        "  left,right = 0,len(char_list)-1\n",
        "  while left<right:\n",
        "    char_list[left],char_list[right]= char_list[right],char_list[left]\n",
        "    left+=1\n",
        "    right-=1\n",
        "  return \"\".join(char_list)\n"
      ]
    },
    {
      "cell_type": "code",
      "execution_count": null,
      "id": "oh-K661sJNXU",
      "metadata": {
        "colab": {
          "base_uri": "https://localhost:8080/",
          "height": 36
        },
        "id": "oh-K661sJNXU",
        "outputId": "7bca945a-b322-4eb2-cefb-da7f134a593a"
      },
      "outputs": [
        {
          "data": {
            "application/vnd.google.colaboratory.intrinsic+json": {
              "type": "string"
            },
            "text/plain": [
              "'weivretnIYE'"
            ]
          },
          "execution_count": 12,
          "metadata": {},
          "output_type": "execute_result"
        }
      ],
      "source": [
        "a = \"EYInterview\"\n",
        "reverse_string(a)"
      ]
    },
    {
      "cell_type": "markdown",
      "id": "BqTh28uFomA2",
      "metadata": {
        "id": "BqTh28uFomA2"
      },
      "source": [
        "## Check for Palindrome\n"
      ]
    },
    {
      "cell_type": "markdown",
      "id": "NCJ19SYYpIpd",
      "metadata": {
        "id": "NCJ19SYYpIpd"
      },
      "source": [
        "Input: \"racecar\"\n",
        "Output: True"
      ]
    },
    {
      "cell_type": "code",
      "execution_count": null,
      "id": "xIA6Xqlqopn-",
      "metadata": {
        "id": "xIA6Xqlqopn-"
      },
      "outputs": [],
      "source": [
        "a = \"racecar\""
      ]
    },
    {
      "cell_type": "code",
      "execution_count": null,
      "id": "jeSeutYCopkn",
      "metadata": {
        "colab": {
          "base_uri": "https://localhost:8080/"
        },
        "id": "jeSeutYCopkn",
        "outputId": "1e49e112-9c2c-404a-aac8-a35a1de470df"
      },
      "outputs": [
        {
          "name": "stdout",
          "output_type": "stream",
          "text": [
            "True\n"
          ]
        }
      ],
      "source": [
        "if a ==a[::-1]:\n",
        " print(True)"
      ]
    },
    {
      "cell_type": "code",
      "execution_count": null,
      "id": "NwD6HbatopiR",
      "metadata": {
        "id": "NwD6HbatopiR"
      },
      "outputs": [],
      "source": [
        "def palindrome_st(s):\n",
        "  s = ''.join(s.split()).lower()\n",
        "  left, right = 0,len(s)-1\n",
        "  while left < right:\n",
        "    if s[left]!=s[right]:\n",
        "      return False\n",
        "    left +=1\n",
        "    right -=1\n",
        "  return True\n",
        "\n"
      ]
    },
    {
      "cell_type": "code",
      "execution_count": null,
      "id": "ZrRFaW6UswLg",
      "metadata": {
        "colab": {
          "base_uri": "https://localhost:8080/"
        },
        "id": "ZrRFaW6UswLg",
        "outputId": "1d0bac17-fd3c-4f5b-c575-e51b7dba0fdd"
      },
      "outputs": [
        {
          "data": {
            "text/plain": [
              "True"
            ]
          },
          "execution_count": 7,
          "metadata": {},
          "output_type": "execute_result"
        }
      ],
      "source": [
        "palindrome_st(a)"
      ]
    },
    {
      "cell_type": "markdown",
      "id": "Su0EYypqJl74",
      "metadata": {
        "id": "Su0EYypqJl74"
      },
      "source": [
        "## Factorial Cal"
      ]
    },
    {
      "cell_type": "markdown",
      "id": "BCTe6jGsJynu",
      "metadata": {
        "id": "BCTe6jGsJynu"
      },
      "source": [
        "factorial(5)  # Output: 120  (5! = 5 * 4 * 3 * 2 * 1)"
      ]
    },
    {
      "cell_type": "code",
      "execution_count": null,
      "id": "OYsT6G1oJyBL",
      "metadata": {
        "colab": {
          "base_uri": "https://localhost:8080/"
        },
        "id": "OYsT6G1oJyBL",
        "outputId": "d6dae7cc-a26b-452b-b62d-a508f3923e30"
      },
      "outputs": [
        {
          "data": {
            "text/plain": [
              "120"
            ]
          },
          "execution_count": 1,
          "metadata": {},
          "output_type": "execute_result"
        }
      ],
      "source": [
        "def fact(n):\n",
        "  if n==0:\n",
        "    return 1\n",
        "  else:\n",
        "    return n*fact(n-1)\n",
        "\n",
        "fact(5)"
      ]
    },
    {
      "cell_type": "markdown",
      "id": "uJR8UnBiKENc",
      "metadata": {
        "id": "uJR8UnBiKENc"
      },
      "source": [
        "## Fibonacci"
      ]
    },
    {
      "cell_type": "markdown",
      "id": "4njJPyo8KL8P",
      "metadata": {
        "id": "4njJPyo8KL8P"
      },
      "source": [
        "fibonacci(6)  # Output: [0, 1, 1, 2, 3, 5]"
      ]
    },
    {
      "cell_type": "code",
      "execution_count": null,
      "id": "142RTv5cKE7J",
      "metadata": {
        "colab": {
          "base_uri": "https://localhost:8080/"
        },
        "id": "142RTv5cKE7J",
        "outputId": "4956f2a5-b838-468a-f689-4f9f6c91df6d"
      },
      "outputs": [
        {
          "data": {
            "text/plain": [
              "[0, 1, 1]"
            ]
          },
          "execution_count": 3,
          "metadata": {},
          "output_type": "execute_result"
        }
      ],
      "source": [
        "def fibo(n):\n",
        "  fiblist =[0,1]\n",
        "  for i in range(2,n+1):\n",
        "    fiblist.append(fiblist[i-1]+fiblist[i-2])\n",
        "  return fiblist\n",
        "fibo(2)"
      ]
    },
    {
      "cell_type": "markdown",
      "id": "gVIv9dv7K6Ir",
      "metadata": {
        "id": "gVIv9dv7K6Ir"
      },
      "source": [
        "## Prime number check"
      ]
    },
    {
      "cell_type": "markdown",
      "id": "s9qPIi_HK6uf",
      "metadata": {
        "id": "s9qPIi_HK6uf"
      },
      "source": [
        "is_prime(7)  # Output: True\n",
        "is_prime(10)  # Output: False\n"
      ]
    },
    {
      "cell_type": "code",
      "execution_count": null,
      "id": "xWypZx0VK7Dk",
      "metadata": {
        "colab": {
          "base_uri": "https://localhost:8080/"
        },
        "id": "xWypZx0VK7Dk",
        "outputId": "672f2b68-f46b-4586-ef45-b66985dc5ace"
      },
      "outputs": [
        {
          "data": {
            "text/plain": [
              "False"
            ]
          },
          "execution_count": 10,
          "metadata": {},
          "output_type": "execute_result"
        }
      ],
      "source": [
        "def isprime(n):\n",
        "  if n>1:\n",
        "    for i in range(2,(n//2)+1):\n",
        "      if n%i==0:\n",
        "        return False\n",
        "      else:\n",
        "        return True\n",
        "  else:\n",
        "    return False\n",
        "isprime(10)"
      ]
    },
    {
      "cell_type": "code",
      "execution_count": null,
      "id": "wmQHEH-PPF_i",
      "metadata": {
        "colab": {
          "base_uri": "https://localhost:8080/"
        },
        "id": "wmQHEH-PPF_i",
        "outputId": "ec2b0970-cbfc-42cc-bd95-33bff3cdecde"
      },
      "outputs": [
        {
          "data": {
            "text/plain": [
              "True"
            ]
          },
          "execution_count": 11,
          "metadata": {},
          "output_type": "execute_result"
        }
      ],
      "source": [
        "isprime(7)"
      ]
    },
    {
      "cell_type": "markdown",
      "id": "El7iJhSeaCKu",
      "metadata": {
        "id": "El7iJhSeaCKu"
      },
      "source": [
        "## Count Frequency of Characters"
      ]
    },
    {
      "cell_type": "markdown",
      "id": "eG8PeQEnaHg5",
      "metadata": {
        "id": "eG8PeQEnaHg5"
      },
      "source": [
        "Write a function char_frequency(s: str) -> dict that takes a string and returns a dictionary where the keys are the characters and the values are the counts of those characters in the string."
      ]
    },
    {
      "cell_type": "code",
      "execution_count": null,
      "id": "RqdzxCM3aEwd",
      "metadata": {
        "colab": {
          "base_uri": "https://localhost:8080/"
        },
        "id": "RqdzxCM3aEwd",
        "outputId": "f72bc224-95d3-45ac-cc30-3a9861d532e8"
      },
      "outputs": [
        {
          "data": {
            "text/plain": [
              "{'h': 1, 'e': 1, 'l': 2, 'o': 1}"
            ]
          },
          "execution_count": 5,
          "metadata": {},
          "output_type": "execute_result"
        }
      ],
      "source": [
        "def count_freq(n):\n",
        "  ans ={}\n",
        "  for i in n:\n",
        "    if i not in ans:\n",
        "      ans[i] = 1\n",
        "    elif i in ans:\n",
        "      ans[i]+=1\n",
        "  return ans\n",
        "\n",
        "count_freq('hello')"
      ]
    },
    {
      "cell_type": "code",
      "execution_count": null,
      "id": "2zNrJrLbaEtB",
      "metadata": {
        "colab": {
          "base_uri": "https://localhost:8080/"
        },
        "id": "2zNrJrLbaEtB",
        "outputId": "afc749b6-dd1b-4246-e997-4448be594777"
      },
      "outputs": [
        {
          "data": {
            "text/plain": [
              "{'h': 1, 'e': 1, 'l': 3, 'o': 2, ' ': 1, 'w': 1, 'r': 1, 'd': 1}"
            ]
          },
          "execution_count": 6,
          "metadata": {},
          "output_type": "execute_result"
        }
      ],
      "source": [
        "count_freq(\"hello world\")"
      ]
    },
    {
      "cell_type": "markdown",
      "id": "eO8H3pC4b2ju",
      "metadata": {
        "id": "eO8H3pC4b2ju"
      },
      "source": [
        "## Merge Sorted lists"
      ]
    },
    {
      "cell_type": "markdown",
      "id": "QVairGXjb-EE",
      "metadata": {
        "id": "QVairGXjb-EE"
      },
      "source": [
        "Write a function merge_sorted_lists(list1: list, list2: list) -> list that takes two sorted lists of integers and returns a new list that contains all elements from both lists in sorted order."
      ]
    },
    {
      "cell_type": "code",
      "execution_count": null,
      "id": "WuDiYaTsaEqz",
      "metadata": {
        "id": "WuDiYaTsaEqz"
      },
      "outputs": [],
      "source": [
        "def merge_sorted_lists(list1,list2):\n",
        "  ans = []\n",
        "  ans.extend(list1)\n",
        "  ans.extend(list2)\n",
        "  return sorted(ans)"
      ]
    },
    {
      "cell_type": "code",
      "execution_count": null,
      "id": "7kvSVi9naEom",
      "metadata": {
        "colab": {
          "base_uri": "https://localhost:8080/"
        },
        "id": "7kvSVi9naEom",
        "outputId": "9421fe9a-ea58-4903-9121-716a4bc34cb4"
      },
      "outputs": [
        {
          "data": {
            "text/plain": [
              "[1, 2, 3, 4, 5, 6]"
            ]
          },
          "execution_count": 14,
          "metadata": {},
          "output_type": "execute_result"
        }
      ],
      "source": [
        "merge_sorted_lists([1, 3, 5], [2, 4, 6])"
      ]
    },
    {
      "cell_type": "markdown",
      "id": "Bc7VtZmjczYY",
      "metadata": {
        "id": "Bc7VtZmjczYY"
      },
      "source": [
        "## Remove Duplicates from a List"
      ]
    },
    {
      "cell_type": "markdown",
      "id": "vIf6gE5wc39Q",
      "metadata": {
        "id": "vIf6gE5wc39Q"
      },
      "source": [
        "Write a function remove_duplicates(lst: list) -> list that takes a list and returns a new list with duplicate elements removed, while preserving the original order."
      ]
    },
    {
      "cell_type": "code",
      "execution_count": null,
      "id": "OdxIGGt9c7RZ",
      "metadata": {
        "id": "OdxIGGt9c7RZ"
      },
      "outputs": [],
      "source": [
        "def remove_duplicates(lst):\n",
        "  return list(set(lst))"
      ]
    },
    {
      "cell_type": "code",
      "execution_count": null,
      "id": "29WpSoPAc7N5",
      "metadata": {
        "colab": {
          "base_uri": "https://localhost:8080/"
        },
        "id": "29WpSoPAc7N5",
        "outputId": "222a2717-02b8-436c-ee81-cf7e5b4deb99"
      },
      "outputs": [
        {
          "data": {
            "text/plain": [
              "[1, 2, 3, 4, 5]"
            ]
          },
          "execution_count": 16,
          "metadata": {},
          "output_type": "execute_result"
        }
      ],
      "source": [
        "remove_duplicates([1, 2, 2, 3, 4, 4, 5])"
      ]
    },
    {
      "cell_type": "markdown",
      "id": "NL2JONJWdF79",
      "metadata": {
        "id": "NL2JONJWdF79"
      },
      "source": [
        "## Find Common Elements Between Two Lists"
      ]
    },
    {
      "cell_type": "markdown",
      "id": "lRh87aXwdIZe",
      "metadata": {
        "id": "lRh87aXwdIZe"
      },
      "source": [
        "Write a function common_elements(list1: list, list2: list) -> list that returns a list of elements that are common to both input lists (each common element should appear only once in the result)."
      ]
    },
    {
      "cell_type": "code",
      "execution_count": null,
      "id": "E9R2kUGzc7LJ",
      "metadata": {
        "id": "E9R2kUGzc7LJ"
      },
      "outputs": [],
      "source": [
        "def common_elements(list1,list2):\n",
        "  return list(set(list1) & set(list2))"
      ]
    },
    {
      "cell_type": "code",
      "execution_count": null,
      "id": "Kgr8wHsAdYIE",
      "metadata": {
        "colab": {
          "base_uri": "https://localhost:8080/"
        },
        "id": "Kgr8wHsAdYIE",
        "outputId": "723a92d7-f5dc-4591-c03e-257fd32775aa"
      },
      "outputs": [
        {
          "data": {
            "text/plain": [
              "[3, 4]"
            ]
          },
          "execution_count": 18,
          "metadata": {},
          "output_type": "execute_result"
        }
      ],
      "source": [
        "common_elements([1, 2, 3, 4], [3, 4, 5, 6])"
      ]
    },
    {
      "cell_type": "markdown",
      "id": "nhhIh16BPKkK",
      "metadata": {
        "id": "nhhIh16BPKkK"
      },
      "source": []
    },
    {
      "cell_type": "markdown",
      "id": "nB4MvTv4dd6Y",
      "metadata": {
        "id": "nB4MvTv4dd6Y"
      },
      "source": [
        "## Greatest Common Divisor (GCD)"
      ]
    },
    {
      "cell_type": "markdown",
      "id": "CfxDg-kWddkU",
      "metadata": {
        "id": "CfxDg-kWddkU"
      },
      "source": [
        "Write a function gcd(a: int, b: int) -> int that computes the greatest common divisor of two integers using Euclid's algorithm."
      ]
    },
    {
      "cell_type": "code",
      "execution_count": null,
      "id": "WnPxQ7gVfs4r",
      "metadata": {
        "id": "WnPxQ7gVfs4r"
      },
      "outputs": [],
      "source": [
        "def gcd(a,b):\n",
        "  if b==0:\n",
        "    return a\n",
        "  else:\n",
        "    return gcd(b,a%b)"
      ]
    },
    {
      "cell_type": "code",
      "execution_count": null,
      "id": "D1Suqnmsfsyz",
      "metadata": {
        "colab": {
          "base_uri": "https://localhost:8080/"
        },
        "id": "D1Suqnmsfsyz",
        "outputId": "27a4bf22-ecf2-47df-852d-8576779f02be"
      },
      "outputs": [
        {
          "data": {
            "text/plain": [
              "6"
            ]
          },
          "execution_count": 2,
          "metadata": {},
          "output_type": "execute_result"
        }
      ],
      "source": [
        "gcd(48, 18)"
      ]
    },
    {
      "cell_type": "code",
      "execution_count": null,
      "id": "151407b7",
      "metadata": {
        "id": "151407b7",
        "outputId": "3674d542-138d-4517-a347-9bbb2be024b1"
      },
      "outputs": [
        {
          "data": {
            "text/plain": [
              "2"
            ]
          },
          "execution_count": 3,
          "metadata": {},
          "output_type": "execute_result"
        }
      ],
      "source": [
        "48//18"
      ]
    },
    {
      "cell_type": "code",
      "execution_count": null,
      "id": "aab1e394",
      "metadata": {
        "id": "aab1e394",
        "outputId": "8985b4f4-e36d-4c07-bdc1-28a51e4be2b9"
      },
      "outputs": [
        {
          "data": {
            "text/plain": [
              "12"
            ]
          },
          "execution_count": 4,
          "metadata": {},
          "output_type": "execute_result"
        }
      ],
      "source": [
        "48%18"
      ]
    },
    {
      "cell_type": "markdown",
      "id": "Gkyd0u0AyWdQ",
      "metadata": {
        "id": "Gkyd0u0AyWdQ"
      },
      "source": [
        "# *Basic-50*"
      ]
    },
    {
      "cell_type": "markdown",
      "id": "0hWP-SeEg7P0",
      "metadata": {
        "id": "0hWP-SeEg7P0"
      },
      "source": [
        "## 1.Anagram Checker"
      ]
    },
    {
      "cell_type": "markdown",
      "id": "ORJ5-o_VhAR-",
      "metadata": {
        "id": "ORJ5-o_VhAR-"
      },
      "source": [
        "Write a function are_anagrams(s1: str, s2: str) -> bool that checks if two strings are anagrams of each other (i.e., they contain the same characters in any order)."
      ]
    },
    {
      "cell_type": "markdown",
      "id": "hFy3pouNg7KB",
      "metadata": {
        "id": "hFy3pouNg7KB"
      },
      "source": []
    },
    {
      "cell_type": "code",
      "execution_count": null,
      "id": "981Nlx55hK6B",
      "metadata": {
        "id": "981Nlx55hK6B"
      },
      "outputs": [],
      "source": [
        "def anag(a,b):\n",
        "  for i in a:\n",
        "    if i not in b:\n",
        "      return False\n",
        "  return True"
      ]
    },
    {
      "cell_type": "code",
      "execution_count": null,
      "id": "BpgfSWJht5GN",
      "metadata": {
        "colab": {
          "base_uri": "https://localhost:8080/"
        },
        "id": "BpgfSWJht5GN",
        "outputId": "386bd79f-55c1-443b-eb9b-df15009be95a"
      },
      "outputs": [
        {
          "data": {
            "text/plain": [
              "True"
            ]
          },
          "execution_count": 4,
          "metadata": {},
          "output_type": "execute_result"
        }
      ],
      "source": [
        "anag(\"listen\", \"silent\")"
      ]
    },
    {
      "cell_type": "markdown",
      "id": "ljl69kOZuFz3",
      "metadata": {
        "id": "ljl69kOZuFz3"
      },
      "source": [
        "## 2.Sum of Digits(Recursive)"
      ]
    },
    {
      "cell_type": "markdown",
      "id": "IPfjX0M6usmz",
      "metadata": {
        "id": "IPfjX0M6usmz"
      },
      "source": [
        "Write a function sum_of_digits(n: int) -> int that returns the sum of the digits of a number using recursion."
      ]
    },
    {
      "cell_type": "code",
      "execution_count": null,
      "id": "XpGNOtKhuvBw",
      "metadata": {
        "id": "XpGNOtKhuvBw"
      },
      "outputs": [],
      "source": [
        "def sum_of_digits(n):\n",
        "  if n==0:\n",
        "    return 0\n",
        "  else:\n",
        "    return n%10+sum_of_digits(n//10)"
      ]
    },
    {
      "cell_type": "code",
      "execution_count": null,
      "id": "Y9623i5gu-Bx",
      "metadata": {
        "colab": {
          "base_uri": "https://localhost:8080/"
        },
        "id": "Y9623i5gu-Bx",
        "outputId": "d8796b00-150b-4176-acdd-151b9fb4efa0"
      },
      "outputs": [
        {
          "data": {
            "text/plain": [
              "10"
            ]
          },
          "execution_count": 6,
          "metadata": {},
          "output_type": "execute_result"
        }
      ],
      "source": [
        "sum_of_digits(1234)"
      ]
    },
    {
      "cell_type": "code",
      "execution_count": null,
      "id": "dYheMrl0vA0C",
      "metadata": {
        "colab": {
          "base_uri": "https://localhost:8080/"
        },
        "id": "dYheMrl0vA0C",
        "outputId": "11b450b5-ea73-4236-e8a0-fd8a9a0f5bd0"
      },
      "outputs": [
        {
          "data": {
            "text/plain": [
              "8"
            ]
          },
          "execution_count": 7,
          "metadata": {},
          "output_type": "execute_result"
        }
      ],
      "source": [
        "sum_of_digits(53)"
      ]
    },
    {
      "cell_type": "markdown",
      "id": "vE392-9evDTF",
      "metadata": {
        "id": "vE392-9evDTF"
      },
      "source": [
        "## 3.Find Maximum Element"
      ]
    },
    {
      "cell_type": "markdown",
      "id": "9hK8FaDZvJqq",
      "metadata": {
        "id": "9hK8FaDZvJqq"
      },
      "source": [
        "Write a function find_max(lst: list) -> int that returns the maximum element in a list without using the built-in max() function."
      ]
    },
    {
      "cell_type": "code",
      "execution_count": null,
      "id": "NsYJtHAHvKnr",
      "metadata": {
        "id": "NsYJtHAHvKnr"
      },
      "outputs": [],
      "source": [
        "def find_max(l1):\n",
        "  max_num = l1[0]\n",
        "  for i in l1:\n",
        "    if i>max_num:\n",
        "      max_num= i\n",
        "  return max_num"
      ]
    },
    {
      "cell_type": "code",
      "execution_count": null,
      "id": "Lx1QnMiEwEjq",
      "metadata": {
        "colab": {
          "base_uri": "https://localhost:8080/"
        },
        "id": "Lx1QnMiEwEjq",
        "outputId": "5a94794e-bfd6-42d0-f05a-c26b7c46707d"
      },
      "outputs": [
        {
          "data": {
            "text/plain": [
              "5"
            ]
          },
          "execution_count": 9,
          "metadata": {},
          "output_type": "execute_result"
        }
      ],
      "source": [
        "find_max([1, 3, 2, 5, 4])"
      ]
    },
    {
      "cell_type": "markdown",
      "id": "yMvKZWuWwYwp",
      "metadata": {
        "id": "yMvKZWuWwYwp"
      },
      "source": [
        "## 4.Find Minimum Element"
      ]
    },
    {
      "cell_type": "markdown",
      "id": "dKGLzcPlwISj",
      "metadata": {
        "id": "dKGLzcPlwISj"
      },
      "source": [
        "Write a function find_min(lst: list) -> int that returns the minimum element in a list without using the built-in min() function."
      ]
    },
    {
      "cell_type": "code",
      "execution_count": null,
      "id": "cos0uMyBwNw0",
      "metadata": {
        "id": "cos0uMyBwNw0"
      },
      "outputs": [],
      "source": [
        "def find_min(l1):\n",
        "  min_num = l1[0]\n",
        "  for i in l1:\n",
        "    if i<min_num:\n",
        "      min_num= i\n",
        "  return min_num"
      ]
    },
    {
      "cell_type": "code",
      "execution_count": null,
      "id": "-3OalAKIwTDO",
      "metadata": {
        "colab": {
          "base_uri": "https://localhost:8080/"
        },
        "id": "-3OalAKIwTDO",
        "outputId": "d6e29da0-94ba-4cfd-8c97-4633daa4398a"
      },
      "outputs": [
        {
          "data": {
            "text/plain": [
              "0"
            ]
          },
          "execution_count": 13,
          "metadata": {},
          "output_type": "execute_result"
        }
      ],
      "source": [
        "find_min([1, 3, 2, 0, 4])"
      ]
    },
    {
      "cell_type": "markdown",
      "id": "TZfKtPXUs64Z",
      "metadata": {
        "id": "TZfKtPXUs64Z"
      },
      "source": [
        "## 5.Find the First Non-Repeating Character"
      ]
    },
    {
      "cell_type": "markdown",
      "id": "AtM2TqLQtIgA",
      "metadata": {
        "id": "AtM2TqLQtIgA"
      },
      "source": [
        "Input: \"aabbccdeff\"\n",
        "Output: \"d\""
      ]
    },
    {
      "cell_type": "code",
      "execution_count": null,
      "id": "C4eZjDEgwUMz",
      "metadata": {
        "id": "C4eZjDEgwUMz"
      },
      "outputs": [],
      "source": [
        "def first_non_repeating(s):\n",
        "  char_count ={}\n",
        "  for char in s:\n",
        "    char_count[char] = char_count.get(char,0)+1\n",
        "  for char in s:\n",
        "    if char_count[char]==1:\n",
        "      return char\n",
        "  return None"
      ]
    },
    {
      "cell_type": "code",
      "execution_count": null,
      "id": "ZO0JnApYxouf",
      "metadata": {
        "colab": {
          "base_uri": "https://localhost:8080/",
          "height": 36
        },
        "id": "ZO0JnApYxouf",
        "outputId": "2ebd1cce-d93a-4bf8-fa3b-a19100e6b9d9"
      },
      "outputs": [
        {
          "data": {
            "application/vnd.google.colaboratory.intrinsic+json": {
              "type": "string"
            },
            "text/plain": [
              "'d'"
            ]
          },
          "execution_count": 15,
          "metadata": {},
          "output_type": "execute_result"
        }
      ],
      "source": [
        "s = \"aabbccdeff\"\n",
        "first_non_repeating(s)"
      ]
    },
    {
      "cell_type": "markdown",
      "id": "RmmBftWtjh4z",
      "metadata": {
        "id": "RmmBftWtjh4z"
      },
      "source": [
        "## 6.Implement Sorting Algo"
      ]
    },
    {
      "cell_type": "markdown",
      "id": "YOEM5AhDjh1V",
      "metadata": {
        "id": "YOEM5AhDjh1V"
      },
      "source": [
        "Write a function sort_list(lst: list) -> list that returns a sorted version of a list without using sorted() or list.sort(). (You might implement a simple algorithm like bubble sort or selection sort.)\n",
        "\n"
      ]
    },
    {
      "cell_type": "code",
      "execution_count": null,
      "id": "1Z7IgQk0jeY8",
      "metadata": {
        "id": "1Z7IgQk0jeY8"
      },
      "outputs": [],
      "source": [
        "def sort_list(n1):\n",
        "  for i in range(len(n1)):\n",
        "    for j in range(i+1,len(n1)):\n",
        "      if n1[i]>n1[j]:\n",
        "        n1[i],n1[j] = n1[j],n1[i]\n",
        "  return n1"
      ]
    },
    {
      "cell_type": "code",
      "execution_count": null,
      "id": "8OESN-vDjeVh",
      "metadata": {
        "colab": {
          "base_uri": "https://localhost:8080/"
        },
        "id": "8OESN-vDjeVh",
        "outputId": "90794b02-1a17-49aa-e614-d8e7515ab93b"
      },
      "outputs": [
        {
          "data": {
            "text/plain": [
              "[1, 1, 3, 4, 5]"
            ]
          },
          "execution_count": 6,
          "metadata": {},
          "output_type": "execute_result"
        }
      ],
      "source": [
        "sort_list([3, 1, 4, 1, 5])"
      ]
    },
    {
      "cell_type": "markdown",
      "id": "0HxLpvCSkaC4",
      "metadata": {
        "id": "0HxLpvCSkaC4"
      },
      "source": [
        "## 7.Check a list is sorted"
      ]
    },
    {
      "cell_type": "markdown",
      "id": "w44teeNtkZ8y",
      "metadata": {
        "id": "w44teeNtkZ8y"
      },
      "source": [
        "Write a function is_sorted(lst: list) -> bool that checks whether a list is sorted in ascending order."
      ]
    },
    {
      "cell_type": "code",
      "execution_count": null,
      "id": "vmXIPjTOjeTZ",
      "metadata": {
        "id": "vmXIPjTOjeTZ"
      },
      "outputs": [],
      "source": [
        "def is_sorted(l1):\n",
        "  for i in range(len(l1)-1):\n",
        "    if l1[i]>l1[i+1]:\n",
        "      return False\n",
        "  return True"
      ]
    },
    {
      "cell_type": "code",
      "execution_count": null,
      "id": "z8foR1XMjeRU",
      "metadata": {
        "colab": {
          "base_uri": "https://localhost:8080/"
        },
        "id": "z8foR1XMjeRU",
        "outputId": "e7206678-7686-4265-db42-95b0edc19f27"
      },
      "outputs": [
        {
          "data": {
            "text/plain": [
              "True"
            ]
          },
          "execution_count": 8,
          "metadata": {},
          "output_type": "execute_result"
        }
      ],
      "source": [
        "is_sorted([1, 2, 3, 4])"
      ]
    },
    {
      "cell_type": "code",
      "execution_count": null,
      "id": "LNPyW4DUjePp",
      "metadata": {
        "colab": {
          "base_uri": "https://localhost:8080/"
        },
        "id": "LNPyW4DUjePp",
        "outputId": "0b4c0563-c670-43eb-a347-54e707d44a2f"
      },
      "outputs": [
        {
          "data": {
            "text/plain": [
              "False"
            ]
          },
          "execution_count": 9,
          "metadata": {},
          "output_type": "execute_result"
        }
      ],
      "source": [
        "is_sorted([1, 3, 2, 4])"
      ]
    },
    {
      "cell_type": "markdown",
      "id": "9V6joLdWlZnK",
      "metadata": {
        "id": "9V6joLdWlZnK"
      },
      "source": [
        "## 8.Second Largest Number"
      ]
    },
    {
      "cell_type": "markdown",
      "id": "ZVe9uWOmlc9w",
      "metadata": {
        "id": "ZVe9uWOmlc9w"
      },
      "source": [
        "Write a function second_largest(lst: list) -> int that returns the second largest number in a list."
      ]
    },
    {
      "cell_type": "code",
      "execution_count": null,
      "id": "4_1WNND2jeNK",
      "metadata": {
        "colab": {
          "base_uri": "https://localhost:8080/"
        },
        "id": "4_1WNND2jeNK",
        "outputId": "ec0abaa0-bc0e-4b01-f4d4-326c6439c941"
      },
      "outputs": [
        {
          "data": {
            "text/plain": [
              "30"
            ]
          },
          "execution_count": 11,
          "metadata": {},
          "output_type": "execute_result"
        }
      ],
      "source": [
        "sorted([10, 20, 30, 40])[-2]"
      ]
    },
    {
      "cell_type": "code",
      "execution_count": null,
      "id": "L4_IPq1VjeLR",
      "metadata": {
        "id": "L4_IPq1VjeLR"
      },
      "outputs": [],
      "source": [
        "def second_largest(lst):\n",
        "  return sorted(lst)[-2]"
      ]
    },
    {
      "cell_type": "code",
      "execution_count": null,
      "id": "0xH6e4KdjeJF",
      "metadata": {
        "colab": {
          "base_uri": "https://localhost:8080/"
        },
        "id": "0xH6e4KdjeJF",
        "outputId": "bd9f88d9-7d1e-48f5-906a-59f0528d338d"
      },
      "outputs": [
        {
          "data": {
            "text/plain": [
              "30"
            ]
          },
          "execution_count": 13,
          "metadata": {},
          "output_type": "execute_result"
        }
      ],
      "source": [
        "second_largest([10, 20, 30, 40])"
      ]
    },
    {
      "cell_type": "markdown",
      "id": "Aqybjo3dmrwe",
      "metadata": {
        "id": "Aqybjo3dmrwe"
      },
      "source": [
        "## 9.Flatten a nested list"
      ]
    },
    {
      "cell_type": "markdown",
      "id": "zHJnnc56mrer",
      "metadata": {
        "id": "zHJnnc56mrer"
      },
      "source": [
        "Write a function flatten(nested_list: list) -> list that flattens a nested list (i.e., a list that may contain other lists) into a single list of elements."
      ]
    },
    {
      "cell_type": "code",
      "execution_count": null,
      "id": "NZk1YjQttCUC",
      "metadata": {
        "id": "NZk1YjQttCUC"
      },
      "outputs": [],
      "source": [
        "def flat_listr(l1):\n",
        "  flat_list = []\n",
        "  for i in l1:\n",
        "    if isinstance(i,list):\n",
        "      flat_list.extend(flat_listr(i))\n",
        "    else:\n",
        "      flat_list.append(i)\n",
        "  return flat_list"
      ]
    },
    {
      "cell_type": "code",
      "execution_count": null,
      "id": "jx_byiUIjeHW",
      "metadata": {
        "colab": {
          "base_uri": "https://localhost:8080/"
        },
        "id": "jx_byiUIjeHW",
        "outputId": "7d848674-e6b1-4c9c-b73a-a34575f3b06b"
      },
      "outputs": [
        {
          "data": {
            "text/plain": [
              "[1, 2, 3, 4, 5]"
            ]
          },
          "execution_count": 27,
          "metadata": {},
          "output_type": "execute_result"
        }
      ],
      "source": [
        "flat_listr([1, [2, 3], [4, [5]]])"
      ]
    },
    {
      "cell_type": "markdown",
      "id": "rM6IW5ZxtpQp",
      "metadata": {
        "id": "rM6IW5ZxtpQp"
      },
      "source": [
        "## 10.Word Freq Counter"
      ]
    },
    {
      "cell_type": "markdown",
      "id": "BreLiVF5tpNS",
      "metadata": {
        "id": "BreLiVF5tpNS"
      },
      "source": [
        "Write a function word_frequency(text: str) -> dict that returns a dictionary with the frequency of each word in the input text."
      ]
    },
    {
      "cell_type": "code",
      "execution_count": null,
      "id": "lz5kWc7bluNL",
      "metadata": {
        "id": "lz5kWc7bluNL"
      },
      "outputs": [],
      "source": [
        "def word_frequency(text):\n",
        "  words = text.split()\n",
        "  freq = {}\n",
        "  for word in words:\n",
        "    if word in freq:\n",
        "      freq[word]+=1\n",
        "    else:\n",
        "      freq[word]=1\n",
        "  return freq"
      ]
    },
    {
      "cell_type": "code",
      "execution_count": null,
      "id": "x5C-_hiHluJu",
      "metadata": {
        "colab": {
          "base_uri": "https://localhost:8080/"
        },
        "id": "x5C-_hiHluJu",
        "outputId": "91662103-793a-498d-91a3-937a76460a0a"
      },
      "outputs": [
        {
          "data": {
            "text/plain": [
              "{'hello': 2, 'world': 1}"
            ]
          },
          "execution_count": 21,
          "metadata": {},
          "output_type": "execute_result"
        }
      ],
      "source": [
        "word_frequency(\"hello world hello\")"
      ]
    },
    {
      "cell_type": "markdown",
      "id": "qKHZg1DYucB3",
      "metadata": {
        "id": "qKHZg1DYucB3"
      },
      "source": [
        "## 11.Remove Vowels from string"
      ]
    },
    {
      "cell_type": "markdown",
      "id": "6ILEZSb_ub-d",
      "metadata": {
        "id": "6ILEZSb_ub-d"
      },
      "source": []
    },
    {
      "cell_type": "code",
      "execution_count": null,
      "id": "Ht2uKwKWluH2",
      "metadata": {
        "id": "Ht2uKwKWluH2"
      },
      "outputs": [],
      "source": [
        "def remove_vowel(text):\n",
        "  vowels = \"aeiouAEIOU\"\n",
        "  return \"\".join([char for char in text if char not in vowels])"
      ]
    },
    {
      "cell_type": "code",
      "execution_count": null,
      "id": "pMyO9U1tluFb",
      "metadata": {
        "colab": {
          "base_uri": "https://localhost:8080/",
          "height": 36
        },
        "id": "pMyO9U1tluFb",
        "outputId": "c5294551-4b8d-4290-9ef3-e91f42a8b010"
      },
      "outputs": [
        {
          "data": {
            "application/vnd.google.colaboratory.intrinsic+json": {
              "type": "string"
            },
            "text/plain": [
              "'hll wrld'"
            ]
          },
          "execution_count": 25,
          "metadata": {},
          "output_type": "execute_result"
        }
      ],
      "source": [
        "remove_vowel(\"hello world\")"
      ]
    },
    {
      "cell_type": "markdown",
      "id": "NWaoSbv4GWij",
      "metadata": {
        "id": "NWaoSbv4GWij"
      },
      "source": [
        "## 12.Set Intersection"
      ]
    },
    {
      "cell_type": "markdown",
      "id": "k8AUBMVaGWTf",
      "metadata": {
        "id": "k8AUBMVaGWTf"
      },
      "source": [
        "Write a function set_intersection(set1: set, set2: set) -> set that returns the intersection of two sets."
      ]
    },
    {
      "cell_type": "code",
      "execution_count": null,
      "id": "ugw4aYm1luBF",
      "metadata": {
        "id": "ugw4aYm1luBF"
      },
      "outputs": [],
      "source": [
        "def set_intersection(set1,set2):\n",
        "  return set1.intersection(set2)"
      ]
    },
    {
      "cell_type": "code",
      "execution_count": null,
      "id": "A_t8QfD6lt-_",
      "metadata": {
        "colab": {
          "base_uri": "https://localhost:8080/"
        },
        "id": "A_t8QfD6lt-_",
        "outputId": "8b7c026a-ec21-4e86-8a6e-4e0fd70a52a8"
      },
      "outputs": [
        {
          "data": {
            "text/plain": [
              "{2, 3}"
            ]
          },
          "execution_count": 27,
          "metadata": {},
          "output_type": "execute_result"
        }
      ],
      "source": [
        "set_intersection({1, 2, 3}, {2, 3, 4})"
      ]
    },
    {
      "cell_type": "markdown",
      "id": "QOLOWp77KTBP",
      "metadata": {
        "id": "QOLOWp77KTBP"
      },
      "source": [
        "## 13.Generate Permutations"
      ]
    },
    {
      "cell_type": "markdown",
      "id": "3ahR7KfeKS9w",
      "metadata": {
        "id": "3ahR7KfeKS9w"
      },
      "source": [
        "Write a function permutations(lst: list) -> list that returns a list of all permutations of the input list.\n",
        "\n",
        "\n"
      ]
    },
    {
      "cell_type": "code",
      "execution_count": null,
      "id": "t8uJSpEIlt8z",
      "metadata": {
        "id": "t8uJSpEIlt8z"
      },
      "outputs": [],
      "source": [
        "def gen_permute(lst):\n",
        "  if len(lst) <= 1:\n",
        "        return [lst]\n",
        "\n",
        "  result = []\n",
        "  for i in range(len(lst)):\n",
        "      # Choose the current element\n",
        "      current = lst[i]\n",
        "\n",
        "      # Create a list of remaining elements\n",
        "      remaining = lst[:i] + lst[i+1:]\n",
        "\n",
        "      # Generate permutations of the remaining elements\n",
        "      for p in gen_permute(remaining):\n",
        "          # Combine the current element with each permutation\n",
        "          result.append([current] + p)\n",
        "\n",
        "  return result\n"
      ]
    },
    {
      "cell_type": "code",
      "execution_count": null,
      "id": "q5Ph4CHBlt63",
      "metadata": {
        "colab": {
          "base_uri": "https://localhost:8080/"
        },
        "id": "q5Ph4CHBlt63",
        "outputId": "3c5ed819-ab7a-41b0-e150-22f3d6c41308"
      },
      "outputs": [
        {
          "data": {
            "text/plain": [
              "[[1, 2], [2, 1]]"
            ]
          },
          "execution_count": 35,
          "metadata": {},
          "output_type": "execute_result"
        }
      ],
      "source": [
        "gen_permute([1,2])"
      ]
    },
    {
      "cell_type": "markdown",
      "id": "66alwaHeIaZS",
      "metadata": {
        "id": "66alwaHeIaZS"
      },
      "source": [
        "## 14.Generate Combinations"
      ]
    },
    {
      "cell_type": "markdown",
      "id": "HpEjzYhyNX-e",
      "metadata": {
        "id": "HpEjzYhyNX-e"
      },
      "source": [
        "Write a function combinations(lst: list, k: int) -> list that returns all combinations of k elements from the input list."
      ]
    },
    {
      "cell_type": "code",
      "execution_count": null,
      "id": "P76Kd3tfNYWp",
      "metadata": {
        "id": "P76Kd3tfNYWp"
      },
      "outputs": [],
      "source": [
        "def combi(lst,k):\n",
        "  if k==0:\n",
        "    return [[]]\n",
        "  result = []\n",
        "  for i in range(len(lst)):\n",
        "    current = lst[i]\n",
        "    remaining = lst[i+1:]\n",
        "    for p in combi(remaining,k-1):\n",
        "      result.append([current]+p)\n",
        "  return result"
      ]
    },
    {
      "cell_type": "code",
      "execution_count": null,
      "id": "QEVJMXfnNe3B",
      "metadata": {
        "colab": {
          "base_uri": "https://localhost:8080/"
        },
        "id": "QEVJMXfnNe3B",
        "outputId": "d0045a6f-9b52-4462-8077-dd6d2c0a1e63"
      },
      "outputs": [
        {
          "data": {
            "text/plain": [
              "[[1, 2], [1, 3], [2, 3]]"
            ]
          },
          "execution_count": 39,
          "metadata": {},
          "output_type": "execute_result"
        }
      ],
      "source": [
        "combi([1, 2, 3], 2)"
      ]
    },
    {
      "cell_type": "markdown",
      "id": "q5t895f2yl5P",
      "metadata": {
        "id": "q5t895f2yl5P"
      },
      "source": [
        "## Longest common Prefix"
      ]
    },
    {
      "cell_type": "markdown",
      "id": "k3N7Qle8yka9",
      "metadata": {
        "id": "k3N7Qle8yka9"
      },
      "source": [
        "Input: [\"interview\", \"intelligence\", \"integrate\"]\n",
        "Output: \"int\""
      ]
    },
    {
      "cell_type": "code",
      "execution_count": null,
      "id": "QFFa-8c7szr1",
      "metadata": {
        "colab": {
          "base_uri": "https://localhost:8080/"
        },
        "id": "QFFa-8c7szr1",
        "outputId": "2a5b52c4-43ed-4647-a8ba-0711e219abf1"
      },
      "outputs": [
        {
          "output_type": "stream",
          "name": "stdout",
          "text": [
            "inte\n"
          ]
        }
      ],
      "source": [
        "s = [\"interview\", \"intelligence\", \"integrate\"]\n",
        "# calculate the min length of items\n",
        "# iterate serialyy over each item for min length\n",
        "min_len = len(s[0])\n",
        "for char in s:\n",
        "  if len(char)> min_len:\n",
        "    pass\n",
        "  else:\n",
        "    min_len = len(char)\n",
        "\n",
        "for i in range(min_len):\n",
        "  for word in s:\n",
        "    if word[i] != s[0][i]:\n",
        "      print(s[0][:i])\n",
        "      break\n",
        "  else:\n",
        "    continue\n",
        "  break\n",
        "else:\n",
        "  return strs[0][:min_len]\n"
      ]
    },
    {
      "cell_type": "code",
      "source": [
        "print(sorted(s))"
      ],
      "metadata": {
        "colab": {
          "base_uri": "https://localhost:8080/"
        },
        "id": "o-LR3kfkb5nL",
        "outputId": "1c60b578-c0f3-4efc-97f3-36699167c38e"
      },
      "id": "o-LR3kfkb5nL",
      "execution_count": null,
      "outputs": [
        {
          "output_type": "stream",
          "name": "stdout",
          "text": [
            "['integrate', 'intelligence', 'interview']\n"
          ]
        }
      ]
    },
    {
      "cell_type": "markdown",
      "id": "bf989fb9",
      "metadata": {
        "id": "bf989fb9"
      },
      "source": [
        "## 15. Perfect Square checker"
      ]
    },
    {
      "cell_type": "markdown",
      "id": "2f998049",
      "metadata": {
        "id": "2f998049"
      },
      "source": [
        "is_perfect_square(16)  # Output: True\n",
        "is_perfect_square(14)  # Output: False"
      ]
    },
    {
      "cell_type": "code",
      "execution_count": null,
      "id": "eb07cad0",
      "metadata": {
        "id": "eb07cad0"
      },
      "outputs": [],
      "source": [
        "import math\n",
        "def is_perfect_square(n):\n",
        "    ans = math.sqrt(n)\n",
        "    return isinstance(ans,int) or (isinstance(ans,float) and ans.is_integer())"
      ]
    },
    {
      "cell_type": "code",
      "execution_count": null,
      "id": "12fa0f5f",
      "metadata": {
        "id": "12fa0f5f",
        "outputId": "386c4b98-a946-475d-cd26-e62474978d4d"
      },
      "outputs": [
        {
          "data": {
            "text/plain": [
              "False"
            ]
          },
          "execution_count": 16,
          "metadata": {},
          "output_type": "execute_result"
        }
      ],
      "source": [
        "is_perfect_square(14)"
      ]
    },
    {
      "cell_type": "code",
      "execution_count": null,
      "id": "8e41f5d1",
      "metadata": {
        "id": "8e41f5d1",
        "outputId": "707baf8e-fd75-4dea-d315-177d84619491"
      },
      "outputs": [
        {
          "data": {
            "text/plain": [
              "True"
            ]
          },
          "execution_count": 17,
          "metadata": {},
          "output_type": "execute_result"
        }
      ],
      "source": [
        "is_perfect_square(16)"
      ]
    },
    {
      "cell_type": "markdown",
      "id": "de88d081",
      "metadata": {
        "id": "de88d081"
      },
      "source": [
        "## 16. **Decimal to Binary Converter**"
      ]
    },
    {
      "cell_type": "markdown",
      "id": "35dd76a6",
      "metadata": {
        "id": "35dd76a6"
      },
      "source": [
        "-- Write a function decimal_to_binary(n: int) -> str that converts a decimal number to its binary representation as a string.\n",
        "decimal_to_binary(10) <br> # Output: \"1010\"\n"
      ]
    },
    {
      "cell_type": "code",
      "execution_count": null,
      "id": "aee35b31",
      "metadata": {
        "id": "aee35b31"
      },
      "outputs": [],
      "source": []
    },
    {
      "cell_type": "markdown",
      "id": "d6836682",
      "metadata": {
        "id": "d6836682"
      },
      "source": [
        "## 17. **Binary to Decimal Converter**"
      ]
    },
    {
      "cell_type": "markdown",
      "id": "025be09a",
      "metadata": {
        "id": "025be09a"
      },
      "source": [
        "Write a function binary_to_decimal(b: str) -> int that converts a binary string to its decimal representation. <br> binary_to_decimal(\"1010\")  # Output: 10\n"
      ]
    },
    {
      "cell_type": "markdown",
      "id": "fec828ea",
      "metadata": {
        "id": "fec828ea"
      },
      "source": [
        "## 18. Recursive Power Function"
      ]
    },
    {
      "cell_type": "markdown",
      "id": "af07e2d2",
      "metadata": {
        "id": "af07e2d2"
      },
      "source": []
    },
    {
      "cell_type": "markdown",
      "id": "572881ca",
      "metadata": {
        "id": "572881ca"
      },
      "source": [
        "# List"
      ]
    },
    {
      "cell_type": "markdown",
      "id": "dc4f4e33",
      "metadata": {
        "id": "dc4f4e33"
      },
      "source": [
        "## 1. function to reverse a string without using slicing."
      ]
    },
    {
      "cell_type": "markdown",
      "id": "450ba0fd",
      "metadata": {
        "id": "450ba0fd"
      },
      "source": [
        "**Test Case 1:**  \n",
        "     Input: `\"hello\"`  \n",
        "     Expected Output: `\"olleh\"`  \n",
        "**Test Case 2:**  \n",
        "     Input: `\"Eucloid\"`  \n",
        "     Expected Output: `\"diolcuE\"`"
      ]
    },
    {
      "cell_type": "code",
      "execution_count": null,
      "id": "226acc4a",
      "metadata": {
        "id": "226acc4a",
        "outputId": "ab3acc2b-16d5-4d32-ad9b-8d03f45ee0ae"
      },
      "outputs": [
        {
          "name": "stdout",
          "output_type": "stream",
          "text": [
            "['o', 'l', 'l', 'e', 'h']\n"
          ]
        }
      ],
      "source": [
        "def reversestr(n):\n",
        "    return reversed(n)\n",
        "\n",
        "print(list(reversestr('hello')))"
      ]
    },
    {
      "cell_type": "code",
      "execution_count": null,
      "id": "a9f47d06",
      "metadata": {
        "id": "a9f47d06",
        "outputId": "8f9322ed-30af-4916-aebc-f11a846fec2f"
      },
      "outputs": [
        {
          "data": {
            "text/plain": [
              "<reversed at 0x1fe2720efe0>"
            ]
          },
          "execution_count": 22,
          "metadata": {},
          "output_type": "execute_result"
        }
      ],
      "source": [
        "reversed('an')"
      ]
    },
    {
      "cell_type": "markdown",
      "id": "cee4561a",
      "metadata": {
        "id": "cee4561a"
      },
      "source": [
        "## 2.Merge two sorted lists into one sorted list"
      ]
    },
    {
      "cell_type": "markdown",
      "id": "65eaf41a",
      "metadata": {
        "id": "65eaf41a"
      },
      "source": [
        "Test Case:\n",
        "Input: [1, 3, 5] and [2, 4, 6]\n",
        "Expected Output: [1, 2, 3, 4, 5, 6]"
      ]
    },
    {
      "cell_type": "code",
      "execution_count": null,
      "id": "8be476e5",
      "metadata": {
        "id": "8be476e5",
        "outputId": "a3217f8e-ff5b-4212-d6d2-02e0703022fd"
      },
      "outputs": [
        {
          "name": "stdout",
          "output_type": "stream",
          "text": [
            "[1, 2, 3, 4, 5, 6]\n"
          ]
        }
      ],
      "source": [
        "a1 = [1,3,5]\n",
        "a2 = [2,4,6]\n",
        "for i in a1:\n",
        "    a2.append(i)\n",
        "print(sorted(a2))\n"
      ]
    },
    {
      "cell_type": "code",
      "execution_count": null,
      "id": "3ac83941",
      "metadata": {
        "id": "3ac83941"
      },
      "outputs": [],
      "source": [
        "a1 = [5, 6]\n",
        "a2 = [3,7]\n"
      ]
    },
    {
      "cell_type": "markdown",
      "id": "cebc6268",
      "metadata": {
        "id": "cebc6268"
      },
      "source": [
        "## 3. **Find the kth largest element in a list.**\n",
        "    - **Test Case:**\n",
        "    Input: `([7, 10, 4, 3, 20, 15], k=3)`\n",
        "    Expected Output: `10`"
      ]
    },
    {
      "cell_type": "markdown",
      "source": [
        "# New section"
      ],
      "metadata": {
        "id": "UNMpG_xsbh84"
      },
      "id": "UNMpG_xsbh84"
    },
    {
      "cell_type": "code",
      "execution_count": null,
      "id": "f5bb239b",
      "metadata": {
        "id": "f5bb239b",
        "outputId": "6a192661-f235-4668-c948-4dd9ab89e78e"
      },
      "outputs": [
        {
          "data": {
            "text/plain": [
              "10"
            ]
          },
          "execution_count": 4,
          "metadata": {},
          "output_type": "execute_result"
        }
      ],
      "source": [
        "def klarge_list(n,k):\n",
        "    return sorted(n)[k]\n",
        "\n",
        "klarge_list([7, 10, 4, 3, 20, 15], k=3)"
      ]
    },
    {
      "cell_type": "markdown",
      "id": "3d3ca06f",
      "metadata": {
        "id": "3d3ca06f"
      },
      "source": [
        " ## 4. **Implement binary search in a sorted list.**\n",
        "    - **Test Case:**\n",
        "    Input: `([1, 2, 3, 4, 5], target=3)`\n",
        "    Expected Output: `2` (index)"
      ]
    },
    {
      "cell_type": "code",
      "execution_count": null,
      "id": "d847dfab",
      "metadata": {
        "id": "d847dfab"
      },
      "outputs": [],
      "source": [
        "arr1 = [1, 2, 3, 4, 5]"
      ]
    },
    {
      "cell_type": "code",
      "execution_count": null,
      "id": "c9598ca7",
      "metadata": {
        "id": "c9598ca7"
      },
      "outputs": [],
      "source": [
        "def binary_search(arr,low,high,x):\n",
        "    while low<=high:\n",
        "        mid = low+(high-low)//2\n",
        "\n",
        "        if arr[mid] == x:\n",
        "            return mid\n",
        "        elif arr[mid]<x:\n",
        "            low = mid+1\n",
        "        else:\n",
        "            low = mid-1\n",
        "\n",
        "    return -1"
      ]
    },
    {
      "cell_type": "code",
      "execution_count": null,
      "id": "fb4b0f48",
      "metadata": {
        "id": "fb4b0f48",
        "outputId": "3cdf3c61-ac9b-45d4-adc4-5249e7c115c0"
      },
      "outputs": [
        {
          "data": {
            "text/plain": [
              "3"
            ]
          },
          "execution_count": 12,
          "metadata": {},
          "output_type": "execute_result"
        }
      ],
      "source": [
        "binary_search(arr1,0,len(arr1)-1,4)"
      ]
    },
    {
      "cell_type": "markdown",
      "id": "007ce19f",
      "metadata": {
        "id": "007ce19f"
      },
      "source": [
        "## 5. **Find the common elements between two lists.**\n",
        "    - **Test Case:**\n",
        "    Input: `[1, 2, 3, 4]` and `[3, 4, 5, 6]`\n",
        "    Expected Output: `[3, 4]`"
      ]
    },
    {
      "cell_type": "code",
      "execution_count": null,
      "id": "fad78068",
      "metadata": {
        "id": "fad78068",
        "outputId": "9e89d78d-cb30-44a3-84e0-e39887758e64"
      },
      "outputs": [
        {
          "name": "stdout",
          "output_type": "stream",
          "text": [
            "[3, 4]\n"
          ]
        }
      ],
      "source": [
        "arr1 = [1, 2, 3, 4]\n",
        "arr2 = [3, 4, 5, 6]\n",
        "print(list((set(arr1).intersection(set(arr2)))))"
      ]
    },
    {
      "cell_type": "markdown",
      "id": "320a316f",
      "metadata": {
        "id": "320a316f"
      },
      "source": [
        "## 6. **Rotate a list by n positions.**\n",
        "    - **Test Case:**\n",
        "    Input: `([1, 2, 3, 4, 5], n=2)`\n",
        "    Expected Output: `[4, 5, 1, 2, 3]`"
      ]
    },
    {
      "cell_type": "code",
      "execution_count": null,
      "id": "bfb7bd17",
      "metadata": {
        "id": "bfb7bd17",
        "outputId": "3c1456bd-a6f8-4e81-c804-5c4d4b4c7b10"
      },
      "outputs": [
        {
          "data": {
            "text/plain": [
              "[4, 5, 1, 2, 3]"
            ]
          },
          "execution_count": 21,
          "metadata": {},
          "output_type": "execute_result"
        }
      ],
      "source": [
        "def rotate_list(arr,n):\n",
        "    new_one = arr[n+1:]+arr[:n+1]\n",
        "    return new_one\n",
        "\n",
        "arr1 = [1, 2, 3, 4, 5]\n",
        "rotate_list(arr1,2)\n"
      ]
    },
    {
      "cell_type": "markdown",
      "id": "7a779b45",
      "metadata": {
        "id": "7a779b45"
      },
      "source": [
        "## 7.**Find the first missing positive integer.**\n",
        "    - **Test Case:**\n",
        "    Input: `[3, 4, -1, 1]`\n",
        "    Expected Output: `2`"
      ]
    },
    {
      "cell_type": "code",
      "execution_count": null,
      "id": "acbe8e30",
      "metadata": {
        "id": "acbe8e30",
        "outputId": "bcc1a9bc-03d2-49d2-e40c-13849d040491"
      },
      "outputs": [
        {
          "data": {
            "text/plain": [
              "-4"
            ]
          },
          "execution_count": 6,
          "metadata": {},
          "output_type": "execute_result"
        }
      ],
      "source": [
        "def missing_int(arr1):\n",
        "    for i in arr1:\n",
        "        if i<0:\n",
        "            return i\n",
        "            #pass\n",
        "\n",
        "arr2 = [3, -4, -2, -2]\n",
        "missing_int(arr2)"
      ]
    },
    {
      "cell_type": "markdown",
      "id": "8a924dcf",
      "metadata": {
        "id": "8a924dcf"
      },
      "source": [
        "## 8. **Return the difference between two lists (elements in first not in second).**\n",
        "    - **Test Case:**\n",
        "    Input: `[1, 2, 3, 4]` and `[2, 4]`\n",
        "    Expected Output: `[1, 3]`"
      ]
    },
    {
      "cell_type": "code",
      "execution_count": null,
      "id": "f6f9592e",
      "metadata": {
        "id": "f6f9592e",
        "outputId": "bb73bef7-6659-41e0-bfc4-8094bce82e39"
      },
      "outputs": [
        {
          "name": "stdout",
          "output_type": "stream",
          "text": [
            "[1, 3]\n"
          ]
        }
      ],
      "source": [
        "arr1 = [1, 2, 3, 4]\n",
        "arr2 = [2, 4]\n",
        "temp= []\n",
        "for i in arr1:\n",
        "    if i not in arr2:\n",
        "        temp.append(i)\n",
        "\n",
        "print(temp)"
      ]
    },
    {
      "cell_type": "markdown",
      "id": "e9cae5c1",
      "metadata": {
        "id": "e9cae5c1"
      },
      "source": [
        "## 9. **Find the contiguous subarray with the maximum sum (Kadane’s algorithm).**\n",
        "    - **Test Case:**\n",
        "    Input: `[-2, 1, -3, 4, -1, 2, 1, -5, 4]`\n",
        "    Expected Output: `6` (from subarray `[4, -1, 2, 1]`)"
      ]
    },
    {
      "cell_type": "code",
      "execution_count": null,
      "id": "25ac6842",
      "metadata": {
        "id": "25ac6842"
      },
      "outputs": [],
      "source": [
        "def kadane(arr):\n",
        "    max_num = current_sum = arr[0]\n",
        "    start = end = temp_start = 0\n",
        "    for i in range(1,len(arr)):\n",
        "        if arr[i] > current_sum + arr[i]:\n",
        "            current_sum = arr[i]\n",
        "            temp_start = i\n",
        "        else:\n",
        "            current_sum += arr[i]\n",
        "\n",
        "        if current_sum > max_num:\n",
        "            max_num = current_sum\n",
        "            start = temp_start\n",
        "            end = i\n",
        "\n",
        "    return max_num,arr[start:end+1]"
      ]
    },
    {
      "cell_type": "code",
      "execution_count": null,
      "id": "060f8f80",
      "metadata": {
        "id": "060f8f80",
        "outputId": "7c578227-3f84-4b46-e492-c5e893bf15a8"
      },
      "outputs": [
        {
          "data": {
            "text/plain": [
              "(6, [4, -1, 2, 1])"
            ]
          },
          "execution_count": 11,
          "metadata": {},
          "output_type": "execute_result"
        }
      ],
      "source": [
        "arr1 = [-2, 1, -3, 4, -1, 2, 1, -5, 4]\n",
        "kadane(arr1)"
      ]
    },
    {
      "cell_type": "markdown",
      "id": "dea605f8",
      "metadata": {
        "id": "dea605f8"
      },
      "source": [
        "## 10.**Split a list into chunks of a given size.**\n",
        "    - **Test Case:**\n",
        "    Input: `([1, 2, 3, 4, 5], chunk_size=2)`\n",
        "    Expected Output: `[[1, 2], [3, 4], [5]]`"
      ]
    },
    {
      "cell_type": "code",
      "execution_count": null,
      "id": "978f1587",
      "metadata": {
        "id": "978f1587"
      },
      "outputs": [],
      "source": [
        "def split_chunk(arr,chunk_size):\n",
        "    start = end = 0\n",
        "    temp=[]\n",
        "    for i in range(0,len(arr),chunk_size):\n",
        "        start = i\n",
        "        end = start+chunk_size\n",
        "        temp.append(arr[start:end])\n",
        "    return temp"
      ]
    },
    {
      "cell_type": "code",
      "execution_count": null,
      "id": "15dcab41",
      "metadata": {
        "id": "15dcab41",
        "outputId": "2deaffe3-a4a9-4fab-9e34-6215ae0b0018"
      },
      "outputs": [
        {
          "data": {
            "text/plain": [
              "[[1, 2], [3, 4], [5]]"
            ]
          },
          "execution_count": 23,
          "metadata": {},
          "output_type": "execute_result"
        }
      ],
      "source": [
        "arr1 = [1, 2, 3, 4, 5]\n",
        "split_chunk(arr1,2)"
      ]
    },
    {
      "cell_type": "markdown",
      "id": "05204f13",
      "metadata": {
        "id": "05204f13"
      },
      "source": [
        "## 11. **Remove all falsy values from a list.**\n",
        "    - **Test Case:**\n",
        "    Input: `[0, 1, \"\", None, 2, False, 3]`\n",
        "    Expected Output: `[1, 2, 3]`"
      ]
    },
    {
      "cell_type": "code",
      "execution_count": null,
      "id": "64b97c8b",
      "metadata": {
        "id": "64b97c8b",
        "outputId": "f8c622d0-1a2b-41cf-cd28-3eb06bfbd4aa"
      },
      "outputs": [
        {
          "data": {
            "text/plain": [
              "[1, 2, 3]"
            ]
          },
          "execution_count": 24,
          "metadata": {},
          "output_type": "execute_result"
        }
      ],
      "source": [
        "arr1 = [0, 1, \"\", None, 2, False, 3]\n",
        "list(filter(None,arr1))"
      ]
    },
    {
      "cell_type": "markdown",
      "id": "572e7054",
      "metadata": {
        "id": "572e7054"
      },
      "source": [
        "## 12. **Calculate the median of a list of numbers.**\n",
        "    - **Test Case 1 (odd count):**\n",
        "    Input: `[3, 1, 2]`\n",
        "    Expected Output: `2`\n",
        "    - **Test Case 2 (even count):**\n",
        "    Input: `[4, 1, 2, 3]`\n",
        "    Expected Output: `2.5`"
      ]
    },
    {
      "cell_type": "code",
      "execution_count": null,
      "id": "61f60706",
      "metadata": {
        "id": "61f60706"
      },
      "outputs": [],
      "source": [
        "def cal_med(ar):\n",
        "    arr = sorted(ar)\n",
        "    if len(arr)%2 ==0:\n",
        "        return (arr[len(arr)//2]+arr[(len(arr)//2)-1])*0.5\n",
        "    else:\n",
        "        return arr[(len(arr)//2)]"
      ]
    },
    {
      "cell_type": "code",
      "execution_count": null,
      "id": "b0cc462a",
      "metadata": {
        "id": "b0cc462a",
        "outputId": "ecc7e9e0-764c-46ee-b1a7-e3704989e7fc"
      },
      "outputs": [
        {
          "data": {
            "text/plain": [
              "2"
            ]
          },
          "execution_count": 44,
          "metadata": {},
          "output_type": "execute_result"
        }
      ],
      "source": [
        "cal_med([3, 1, 2])"
      ]
    },
    {
      "cell_type": "code",
      "execution_count": null,
      "id": "549555f9",
      "metadata": {
        "id": "549555f9",
        "outputId": "649329db-a012-40fb-b85a-2d219a95ca48"
      },
      "outputs": [
        {
          "data": {
            "text/plain": [
              "2.5"
            ]
          },
          "execution_count": 45,
          "metadata": {},
          "output_type": "execute_result"
        }
      ],
      "source": [
        "cal_med([4,1,2,3])"
      ]
    },
    {
      "cell_type": "markdown",
      "id": "2ec0042e",
      "metadata": {
        "id": "2ec0042e"
      },
      "source": [
        "## 13. WAP to get the smallest number from a list."
      ]
    },
    {
      "cell_type": "code",
      "execution_count": null,
      "id": "df0d9ef8",
      "metadata": {
        "id": "df0d9ef8",
        "outputId": "5e6523be-5674-48d2-f593-02d1f220ecba"
      },
      "outputs": [
        {
          "name": "stdout",
          "output_type": "stream",
          "text": [
            "2\n"
          ]
        }
      ],
      "source": [
        "l1 = [5,3,4,2,7]\n",
        "temp = l1[0]\n",
        "for i in range(len(l1)):\n",
        "    if l1[i] < temp:\n",
        "        temp = l1[i]\n",
        "print(temp)"
      ]
    },
    {
      "cell_type": "markdown",
      "id": "09c666bd",
      "metadata": {
        "id": "09c666bd"
      },
      "source": [
        "## 14.Write a Python program to count the number of strings from a given list of strings. The string length is 2 or more and the first and last characters are the same.\n",
        "Sample List : ['abc', 'xyz', 'aba', '1221']\n",
        "Expected Result : 2"
      ]
    },
    {
      "cell_type": "code",
      "execution_count": null,
      "id": "8d0353b0",
      "metadata": {
        "id": "8d0353b0"
      },
      "outputs": [],
      "source": [
        "def count_strings(strings):\n",
        "    count = 0\n",
        "    for s in strings:\n",
        "        if len(s)>=2 and s[0]==s[-1]:\n",
        "            count+=1\n",
        "    return count\n"
      ]
    },
    {
      "cell_type": "code",
      "execution_count": null,
      "id": "3e6055a1",
      "metadata": {
        "id": "3e6055a1",
        "outputId": "d7415e84-38e4-4710-91ce-cd3bfcb61afe"
      },
      "outputs": [
        {
          "data": {
            "text/plain": [
              "2"
            ]
          },
          "execution_count": 10,
          "metadata": {},
          "output_type": "execute_result"
        }
      ],
      "source": [
        "sample_list = ['abc', 'xyz', 'aba', '1221']\n",
        "count_strings(sample_list)"
      ]
    },
    {
      "cell_type": "code",
      "execution_count": null,
      "id": "d9c6db35",
      "metadata": {
        "id": "d9c6db35"
      },
      "outputs": [],
      "source": []
    },
    {
      "cell_type": "markdown",
      "id": "bee58194",
      "metadata": {
        "id": "bee58194"
      },
      "source": [
        "# Tuples"
      ]
    },
    {
      "cell_type": "markdown",
      "id": "89808e12",
      "metadata": {
        "id": "89808e12"
      },
      "source": [
        "## 1. **Reverse a tuple.**\n",
        "    - **Test Case:**\n",
        "    Input: `(1, 2, 3, 4)`\n",
        "    Expected Output: `(4, 3, 2, 1)`"
      ]
    },
    {
      "cell_type": "code",
      "execution_count": null,
      "id": "e237d2b6",
      "metadata": {
        "id": "e237d2b6",
        "outputId": "de463512-806c-45d6-a077-3cdcd55a1a78"
      },
      "outputs": [
        {
          "name": "stdout",
          "output_type": "stream",
          "text": [
            "(4, 3, 2, 1)\n"
          ]
        }
      ],
      "source": [
        "arr1 =(1,2,3,4)\n",
        "print(tuple(reversed(arr1)))"
      ]
    },
    {
      "cell_type": "markdown",
      "id": "4a238558",
      "metadata": {
        "id": "4a238558"
      },
      "source": [
        "## 2. **Merge two tuples.**\n",
        "    - **Test Case:**\n",
        "    Input: `(1, 2)` and `(3, 4)`\n",
        "    Expected Output: `(1, 2, 3, 4)`"
      ]
    },
    {
      "cell_type": "code",
      "execution_count": null,
      "id": "8935314a",
      "metadata": {
        "id": "8935314a",
        "outputId": "efef7fe3-8c2b-42bc-cef1-4809dfffb812"
      },
      "outputs": [
        {
          "data": {
            "text/plain": [
              "(1, 2, 3, 4)"
            ]
          },
          "execution_count": 55,
          "metadata": {},
          "output_type": "execute_result"
        }
      ],
      "source": [
        "arr1 = (1,2)\n",
        "arr2 = (3,4)\n",
        "arr3 = arr1 +arr2\n",
        "arr3"
      ]
    },
    {
      "cell_type": "code",
      "execution_count": null,
      "id": "2a4f4feb",
      "metadata": {
        "id": "2a4f4feb",
        "outputId": "b2f9a35c-4418-43a9-a5b7-2cdc83a1ca77"
      },
      "outputs": [
        {
          "name": "stdout",
          "output_type": "stream",
          "text": [
            "(1, 2, 3, 4)\n"
          ]
        }
      ],
      "source": [
        "# tuple unpacking\n",
        "''' Using *t1, *t2 in a function call unpacks the elements as separate arguments,\n",
        "not as a tuple. To get a merged tuple, use concatenation (t1 + t2) or tuple unpacking inside parentheses '''\n",
        "merged = (*arr1,*arr2)\n",
        "print(merged)"
      ]
    },
    {
      "cell_type": "code",
      "execution_count": null,
      "id": "95d2641c",
      "metadata": {
        "id": "95d2641c",
        "outputId": "46f29293-61c2-4955-c687-8e46bf2086af"
      },
      "outputs": [
        {
          "name": "stdout",
          "output_type": "stream",
          "text": [
            "(1, 2, 3, 4)\n"
          ]
        }
      ],
      "source": [
        "print((*arr1,*arr2))"
      ]
    },
    {
      "cell_type": "markdown",
      "id": "cf1c075d",
      "metadata": {
        "id": "cf1c075d"
      },
      "source": [
        "## 3. **Concatenate a list of tuples into one tuple.**\n",
        "    - **Test Case:**\n",
        "    Input: `[(1, 2), (3, 4), (5,)]`\n",
        "    Expected Output: `(1, 2, 3, 4, 5)`"
      ]
    },
    {
      "cell_type": "code",
      "execution_count": null,
      "id": "7262f5fa",
      "metadata": {
        "id": "7262f5fa",
        "outputId": "33670a87-6b8e-474f-8ccb-e4d65ec3f12a"
      },
      "outputs": [
        {
          "name": "stdout",
          "output_type": "stream",
          "text": [
            "(1, 2) (3, 4) (5,)\n"
          ]
        }
      ],
      "source": [
        "t1 = [(1, 2), (3, 4), (5,)]\n",
        "print(*t1)"
      ]
    },
    {
      "cell_type": "code",
      "execution_count": null,
      "id": "01206028",
      "metadata": {
        "id": "01206028",
        "outputId": "86c35eff-2f9c-486e-d1bb-cf2de76f578d"
      },
      "outputs": [
        {
          "name": "stdout",
          "output_type": "stream",
          "text": [
            "(1, 2, 3, 4, 5)\n"
          ]
        }
      ],
      "source": [
        "t2 = ()\n",
        "for i in t1:\n",
        "    if isinstance(i,tuple):\n",
        "        t2 = t2+i\n",
        "print(t2)"
      ]
    },
    {
      "cell_type": "markdown",
      "id": "3ded0c98",
      "metadata": {
        "id": "3ded0c98"
      },
      "source": [
        "## 4. **Unpack a tuple into separate variables.**\n",
        "    - **Test Case:**\n",
        "    Input: `(10, 20, 30)`\n",
        "    Expected Behavior: Variables `a, b, c` get assigned `10, 20, 30` respectively."
      ]
    },
    {
      "cell_type": "code",
      "execution_count": null,
      "id": "cd60b583",
      "metadata": {
        "id": "cd60b583",
        "outputId": "4718a907-2253-49d8-aca1-01a0deb4d5dc"
      },
      "outputs": [
        {
          "name": "stdout",
          "output_type": "stream",
          "text": [
            "10 20 30\n"
          ]
        }
      ],
      "source": [
        "t1 = (10,20,30)\n",
        "print(*t1)"
      ]
    },
    {
      "cell_type": "markdown",
      "id": "31072d01",
      "metadata": {
        "id": "31072d01"
      },
      "source": [
        "## 5. **Compare two tuples element by element.**\n",
        "    - **Test Case:**\n",
        "    Input: `(1, 2, 3)` and `(1, 2, 4)`\n",
        "    Expected Output: The function should indicate they differ at the third element."
      ]
    },
    {
      "cell_type": "code",
      "execution_count": null,
      "id": "d51cd0a3",
      "metadata": {
        "id": "d51cd0a3",
        "outputId": "5a1a87ab-3b38-45f9-e3e5-e444499edcbe"
      },
      "outputs": [
        {
          "data": {
            "text/plain": [
              "1"
            ]
          },
          "execution_count": 66,
          "metadata": {},
          "output_type": "execute_result"
        }
      ],
      "source": [
        "t1 = (1,2,3)\n",
        "t2 = (1,2,4)\n",
        "t1[0]"
      ]
    },
    {
      "cell_type": "code",
      "execution_count": null,
      "id": "6ecf63e4",
      "metadata": {
        "id": "6ecf63e4",
        "outputId": "1a266b8d-2059-4cc3-f80d-61f07c26dcb3"
      },
      "outputs": [
        {
          "name": "stdout",
          "output_type": "stream",
          "text": [
            "the two tuples differ at the 3 position\n"
          ]
        }
      ],
      "source": [
        "for i in range(0,len(t1)):\n",
        "    if t1[i] != t2[i]:\n",
        "        print(f\"the two tuples differ at the {i+1} position\")"
      ]
    },
    {
      "cell_type": "markdown",
      "id": "511cb79f",
      "metadata": {
        "id": "511cb79f"
      },
      "source": [
        "## 6. **Convert a list into a tuple.**\n",
        "    - **Test Case:**\n",
        "    Input: `[1, 2, 3]`\n",
        "    Expected Output: `(1, 2, 3)`"
      ]
    },
    {
      "cell_type": "code",
      "execution_count": null,
      "id": "9b3f28f9",
      "metadata": {
        "id": "9b3f28f9",
        "outputId": "9b6b3c79-1365-45f2-85e6-98a8c561bd6d"
      },
      "outputs": [
        {
          "name": "stdout",
          "output_type": "stream",
          "text": [
            "(1, 2, 3)\n"
          ]
        }
      ],
      "source": [
        "t1 = [1,2,3]\n",
        "print(tuple(t1))"
      ]
    },
    {
      "cell_type": "markdown",
      "id": "8fe23eb1",
      "metadata": {
        "id": "8fe23eb1"
      },
      "source": [
        "## 7. **Sort a list of tuples by the second element.**\n",
        "    - **Test Case:**\n",
        "    Input: `[(1, 3), (2, 1), (3, 2)]`\n",
        "    Expected Output: `[(2, 1), (3, 2), (1, 3)]`"
      ]
    },
    {
      "cell_type": "code",
      "execution_count": null,
      "id": "7cb9c829",
      "metadata": {
        "id": "7cb9c829",
        "outputId": "63e86a26-c295-44bb-ee4b-e6ef2051c3e4"
      },
      "outputs": [
        {
          "data": {
            "text/plain": [
              "[(2, 1), (3, 2), (1, 3)]"
            ]
          },
          "execution_count": 7,
          "metadata": {},
          "output_type": "execute_result"
        }
      ],
      "source": [
        "t1 = [(1, 3), (2, 1), (3, 2)]\n",
        "sorted(t1,key=lambda x:x[1])"
      ]
    },
    {
      "cell_type": "markdown",
      "id": "51df99ba",
      "metadata": {
        "id": "51df99ba"
      },
      "source": [
        "## 8. **Return a tuple containing the min and max of its numerical elements.**\n",
        "    - **Test Case:**\n",
        "    Input: `(5, 1, 9, 3)`\n",
        "    Expected Output: `(1, 9)`"
      ]
    },
    {
      "cell_type": "code",
      "execution_count": null,
      "id": "1b44bedf",
      "metadata": {
        "id": "1b44bedf",
        "outputId": "a5c4a38a-9e12-49c2-d876-23e9b4c662a2"
      },
      "outputs": [
        {
          "data": {
            "text/plain": [
              "(1, 9)"
            ]
          },
          "execution_count": 10,
          "metadata": {},
          "output_type": "execute_result"
        }
      ],
      "source": [
        "t1 = (5,1,9,3)\n",
        "t2 = (min(t1),max(t1))\n",
        "t2"
      ]
    },
    {
      "cell_type": "markdown",
      "id": "32e14c95",
      "metadata": {
        "id": "32e14c95"
      },
      "source": [
        "## 9. **Find the frequency of elements in a tuple.**\n",
        "    - **Test Case:**\n",
        "    Input: `(1, 2, 2, 3)`\n",
        "    Expected Output: `{1: 1, 2: 2, 3: 1}`"
      ]
    },
    {
      "cell_type": "code",
      "execution_count": null,
      "id": "6f1d97c4",
      "metadata": {
        "id": "6f1d97c4"
      },
      "outputs": [],
      "source": [
        "t1 = (1,2,2,3)\n",
        "t2 ={}\n",
        "for i in t1:\n",
        "    if i in t2:\n",
        "        t2[i]+=1\n",
        "    else:\n",
        "        t2[i] =1"
      ]
    },
    {
      "cell_type": "code",
      "execution_count": null,
      "id": "4561f91d",
      "metadata": {
        "id": "4561f91d",
        "outputId": "ac7a5655-cbb9-4ee1-b52a-52e22a439625"
      },
      "outputs": [
        {
          "data": {
            "text/plain": [
              "{1: 1, 2: 2, 3: 1}"
            ]
          },
          "execution_count": 12,
          "metadata": {},
          "output_type": "execute_result"
        }
      ],
      "source": [
        "t2"
      ]
    },
    {
      "cell_type": "code",
      "execution_count": null,
      "id": "896a62ac",
      "metadata": {
        "id": "896a62ac",
        "outputId": "13d6c57c-1ade-47d6-dcc5-a707184d99be"
      },
      "outputs": [
        {
          "data": {
            "text/plain": [
              "{1: 1, 2: 2, 3: 1}"
            ]
          },
          "execution_count": 15,
          "metadata": {},
          "output_type": "execute_result"
        }
      ],
      "source": [
        "freq = {}\n",
        "for item in t1:\n",
        "    freq[item] = freq.get(item,0)+1\n",
        "freq"
      ]
    },
    {
      "cell_type": "markdown",
      "id": "74cc9db6",
      "metadata": {
        "id": "74cc9db6"
      },
      "source": [
        "## 10. **Check if a tuple is a palindrome.**\n",
        "    - **Test Case:**\n",
        "    Input: `(1, 2, 3, 2, 1)`\n",
        "    Expected Output: `True`"
      ]
    },
    {
      "cell_type": "code",
      "execution_count": null,
      "id": "b8bff89f",
      "metadata": {
        "id": "b8bff89f",
        "outputId": "41f9eee7-b57b-46e8-a658-e4d62aa3eb49"
      },
      "outputs": [
        {
          "name": "stdout",
          "output_type": "stream",
          "text": [
            "True\n"
          ]
        }
      ],
      "source": [
        "t1 = (1,2,3,2,1)\n",
        "if t1 == t1[::-1]:\n",
        "    print('True')\n",
        "else:\n",
        "    print('False')"
      ]
    },
    {
      "cell_type": "markdown",
      "id": "413ac004",
      "metadata": {
        "id": "413ac004"
      },
      "source": [
        "## 11. **Flatten nested tuples into a single tuple.**\n",
        "    - **Test Case:**\n",
        "    Input: `((1, 2), (3, (4, 5)))`\n",
        "    Expected Output: `(1, 2, 3, 4, 5)`"
      ]
    },
    {
      "cell_type": "code",
      "execution_count": null,
      "id": "a69ac524",
      "metadata": {
        "id": "a69ac524",
        "outputId": "15470d8d-7cc5-4580-e2f1-3bf9e1b6185b"
      },
      "outputs": [
        {
          "data": {
            "text/plain": [
              "(1, 2, 3, 4, 5)"
            ]
          },
          "execution_count": 26,
          "metadata": {},
          "output_type": "execute_result"
        }
      ],
      "source": [
        "t1 = ((1, 2), (3, (4, 5)))\n",
        "def flatten_tuple(t):\n",
        "    flat = []\n",
        "    for item in t:\n",
        "        if isinstance(item, (tuple, list)):\n",
        "            flat.extend(flatten_tuple(item))\n",
        "        else:\n",
        "            flat.append(item)\n",
        "    return tuple(flat)\n",
        "\n",
        "flatten_tuple(t1)"
      ]
    },
    {
      "cell_type": "markdown",
      "id": "87d237b4",
      "metadata": {
        "id": "87d237b4"
      },
      "source": [
        "## 12. **Use tuples as keys in a dictionary.**\n",
        "    - **Test Case:**\n",
        "    Input: Use `((1,2), (3,4))` as keys with associated values.\n",
        "    Expected Behavior: Dictionary lookup by tuple key should work correctly."
      ]
    },
    {
      "cell_type": "code",
      "execution_count": null,
      "id": "7d60c13f",
      "metadata": {
        "id": "7d60c13f",
        "outputId": "ace160c3-c515-42b1-9520-7688ae70863d"
      },
      "outputs": [
        {
          "name": "stdout",
          "output_type": "stream",
          "text": [
            "{1: 2, 3: 4}\n"
          ]
        }
      ],
      "source": [
        "t1 = ((1,2),(3,4))\n",
        "t2 = {}\n",
        "for i in t1:\n",
        "    t2[i[0]] = i[1]\n",
        "print(t2)"
      ]
    },
    {
      "cell_type": "markdown",
      "id": "2e614afb",
      "metadata": {
        "id": "2e614afb"
      },
      "source": [
        "## 13. **Swap two elements in a tuple and return a new tuple.**\n",
        "    - **Test Case:**\n",
        "    Input: Tuple `(1, 2, 3)`, swap indices 0 and 2.\n",
        "    Expected Output: `(3, 2, 1)`"
      ]
    },
    {
      "cell_type": "code",
      "execution_count": null,
      "id": "b3232fb5",
      "metadata": {
        "id": "b3232fb5",
        "outputId": "877fadea-2125-419e-de31-fb87c6a7191f"
      },
      "outputs": [
        {
          "name": "stdout",
          "output_type": "stream",
          "text": [
            "(1, 3, 2)\n"
          ]
        }
      ],
      "source": [
        "t = (1, 2, 3)\n",
        "\n",
        "# Step 1: Convert to list\n",
        "lst = list(t)\n",
        "\n",
        "# Step 2: Swap elements at index 1 and 2\n",
        "lst[1], lst[2] = lst[2], lst[1]\n",
        "\n",
        "# Step 3: Convert back to tuple\n",
        "swapped_t = tuple(lst)\n",
        "\n",
        "print(swapped_t)  # Output: (1, 3, 2)\n"
      ]
    },
    {
      "cell_type": "markdown",
      "id": "a291e677",
      "metadata": {
        "id": "a291e677"
      },
      "source": [
        "## 14. **Extract a sub-tuple given start and end indices.**\n",
        "    - **Test Case:**\n",
        "    Input: Tuple `(10, 20, 30, 40)`, indices 1 to 3.\n",
        "    Expected Output: `(20, 30)`"
      ]
    },
    {
      "cell_type": "code",
      "execution_count": null,
      "id": "9055e6fb",
      "metadata": {
        "id": "9055e6fb",
        "outputId": "0b614fa3-47ac-4cd3-d988-38b354d29b06"
      },
      "outputs": [
        {
          "data": {
            "text/plain": [
              "(20, 30)"
            ]
          },
          "execution_count": 30,
          "metadata": {},
          "output_type": "execute_result"
        }
      ],
      "source": [
        "t1 = (10,20,30,40)\n",
        "t1[1:3]"
      ]
    },
    {
      "cell_type": "markdown",
      "id": "03243812",
      "metadata": {
        "id": "03243812"
      },
      "source": [
        "## 15. **Compare two tuples and return the one with the greater sum.**\n",
        "    - **Test Case:**\n",
        "    Input: `(1, 2, 3)` and `(2, 2, 2)`\n",
        "    Expected Output: `(1, 2, 3)` since sum=6 vs. 6; if equal, define behavior."
      ]
    },
    {
      "cell_type": "code",
      "execution_count": null,
      "id": "3e461f49",
      "metadata": {
        "id": "3e461f49",
        "outputId": "242193e6-a92c-490f-928c-eee00738f77b"
      },
      "outputs": [
        {
          "name": "stdout",
          "output_type": "stream",
          "text": [
            "(1, 2, 5)\n"
          ]
        }
      ],
      "source": [
        "t1 =(1,2,5)\n",
        "t2 = (2,2,3)\n",
        "\n",
        "if sum(t1) > sum(t2):\n",
        "    print(t1)\n",
        "elif sum(t1) == sum(t2):\n",
        "    print('Both tuple have Equal')\n",
        "else:\n",
        "    print(t2)"
      ]
    },
    {
      "cell_type": "markdown",
      "id": "aac2d2e5",
      "metadata": {
        "id": "aac2d2e5"
      },
      "source": [
        "## 16. **Create a tuple from multiple input values.**\n",
        "    - **Test Case:**\n",
        "    Input: Values `4, 5, 6`\n",
        "    Expected Output: `(4, 5, 6)`"
      ]
    },
    {
      "cell_type": "code",
      "execution_count": null,
      "id": "26128a9b",
      "metadata": {
        "id": "26128a9b",
        "outputId": "cddfe3c0-3082-47b7-902c-161a03fa0964"
      },
      "outputs": [
        {
          "name": "stdout",
          "output_type": "stream",
          "text": [
            "<class 'tuple'>\n"
          ]
        }
      ],
      "source": [
        "t = 4,5,6\n",
        "print(type(t))"
      ]
    },
    {
      "cell_type": "markdown",
      "id": "1fe4e6e2",
      "metadata": {
        "id": "1fe4e6e2"
      },
      "source": [
        "## 17. **Filter out non-numeric elements from a mixed-type tuple.**\n",
        "    - **Test Case:**\n",
        "    Input: `(1, \"a\", 2, \"b\")`\n",
        "    Expected Output: `(1, 2)`"
      ]
    },
    {
      "cell_type": "code",
      "execution_count": null,
      "id": "e58e96a7",
      "metadata": {
        "id": "e58e96a7"
      },
      "outputs": [],
      "source": [
        "t1 = (1, \"a\", 2, \"b\")"
      ]
    },
    {
      "cell_type": "code",
      "execution_count": null,
      "id": "928189ee",
      "metadata": {
        "id": "928189ee",
        "outputId": "43e9649f-9341-4049-9acd-a9c378ec684c"
      },
      "outputs": [
        {
          "name": "stdout",
          "output_type": "stream",
          "text": [
            "1\n",
            "2\n"
          ]
        }
      ],
      "source": [
        "for i in t1:\n",
        "    if isinstance(i,int):\n",
        "        print(i)"
      ]
    },
    {
      "cell_type": "code",
      "execution_count": null,
      "id": "bfcb128c",
      "metadata": {
        "id": "bfcb128c",
        "outputId": "c73d2d27-7954-49d4-ab98-85768ecd05ca"
      },
      "outputs": [
        {
          "data": {
            "text/plain": [
              "(1, 2)"
            ]
          },
          "execution_count": 48,
          "metadata": {},
          "output_type": "execute_result"
        }
      ],
      "source": [
        "tuple(filter(lambda x: isinstance(x,(int,float)),t1))"
      ]
    },
    {
      "cell_type": "markdown",
      "id": "fafe1be8",
      "metadata": {
        "id": "fafe1be8"
      },
      "source": [
        "## 20. **Demonstrate immutability of tuples (attempting to change an element should fail).**\n",
        "    - **Test Case:**\n",
        "    Input: Try to assign to tuple index on `(1, 2, 3)`\n",
        "    Expected Behavior: Raises a `TypeError`."
      ]
    },
    {
      "cell_type": "code",
      "execution_count": null,
      "id": "79c20d5e",
      "metadata": {
        "id": "79c20d5e",
        "outputId": "61eedaa3-303b-40ce-f7ed-273399bdc29b"
      },
      "outputs": [
        {
          "ename": "TypeError",
          "evalue": "'tuple' object does not support item assignment",
          "output_type": "error",
          "traceback": [
            "\u001b[1;31m---------------------------------------------------------------------------\u001b[0m",
            "\u001b[1;31mTypeError\u001b[0m                                 Traceback (most recent call last)",
            "Cell \u001b[1;32mIn[49], line 2\u001b[0m\n\u001b[0;32m      1\u001b[0m t1 \u001b[38;5;241m=\u001b[39m (\u001b[38;5;241m1\u001b[39m,\u001b[38;5;241m2\u001b[39m,\u001b[38;5;241m3\u001b[39m)\n\u001b[1;32m----> 2\u001b[0m \u001b[43mt1\u001b[49m\u001b[43m[\u001b[49m\u001b[38;5;241;43m0\u001b[39;49m\u001b[43m]\u001b[49m \u001b[38;5;241m=\u001b[39m \u001b[38;5;241m4\u001b[39m\n",
            "\u001b[1;31mTypeError\u001b[0m: 'tuple' object does not support item assignment"
          ]
        }
      ],
      "source": [
        "t1 = (1,2,3)\n",
        "t1[0] = 4\n"
      ]
    },
    {
      "cell_type": "markdown",
      "id": "37f63c46",
      "metadata": {
        "id": "37f63c46"
      },
      "source": [
        "# Dictionary"
      ]
    },
    {
      "cell_type": "markdown",
      "id": "716b89e5",
      "metadata": {
        "id": "716b89e5"
      },
      "source": [
        "## 1. **Merge two dictionaries with overriding values from the second.**\n",
        "    - **Test Case:**\n",
        "    Input: `{\"a\": 1, \"b\": 2}` and `{\"b\": 3, \"c\": 4}`\n",
        "    Expected Output: `{\"a\": 1, \"b\": 3, \"c\": 4}`"
      ]
    },
    {
      "cell_type": "code",
      "execution_count": null,
      "id": "089b93b6",
      "metadata": {
        "id": "089b93b6"
      },
      "outputs": [],
      "source": [
        "d1 = {\"a\": 1, \"b\": 2}\n",
        "d2 = {\"b\": 3, \"c\": 4}"
      ]
    },
    {
      "cell_type": "code",
      "execution_count": null,
      "id": "f99249eb",
      "metadata": {
        "id": "f99249eb",
        "outputId": "79f64442-360c-4a2c-f21f-7fdffde5f79b"
      },
      "outputs": [
        {
          "name": "stdout",
          "output_type": "stream",
          "text": [
            "{'a': 1, 'b': 3, 'c': 4}\n"
          ]
        }
      ],
      "source": [
        "d1.update(d2)\n",
        "print(d1)"
      ]
    },
    {
      "cell_type": "code",
      "execution_count": null,
      "id": "9b368c64",
      "metadata": {
        "id": "9b368c64",
        "outputId": "e4b7f1b5-b579-4c19-e27b-90b403ad1c42"
      },
      "outputs": [
        {
          "name": "stdout",
          "output_type": "stream",
          "text": [
            "{'a': 1, 'b': 3, 'c': 4}\n"
          ]
        }
      ],
      "source": [
        "merged_d = {**d1,**d2}\n",
        "print(merged_d)"
      ]
    },
    {
      "cell_type": "markdown",
      "id": "0c7036fb",
      "metadata": {
        "id": "0c7036fb"
      },
      "source": [
        "## 2.Merge two dictionaries and sum values for common keys.\n",
        "Test Case:\n",
        "Input: {\"a\": 2, \"b\": 3} and {\"b\": 4, \"c\": 1}\n",
        "Expected Output: {\"a\": 2, \"b\": 7, \"c\": 1}"
      ]
    },
    {
      "cell_type": "code",
      "execution_count": null,
      "id": "bd3c8a17",
      "metadata": {
        "id": "bd3c8a17"
      },
      "outputs": [],
      "source": [
        "from collections import Counter\n",
        "def merge_dict(d1,d2):\n",
        "    counter1 = Counter(d1)\n",
        "    counter2 = Counter(d2)\n",
        "    merged = counter1+counter2\n",
        "    return dict(merged)"
      ]
    },
    {
      "cell_type": "code",
      "execution_count": null,
      "id": "6e33333f",
      "metadata": {
        "id": "6e33333f",
        "outputId": "a59fb71e-0c1e-4a5d-c679-304cda6c3f5d"
      },
      "outputs": [
        {
          "data": {
            "text/plain": [
              "{'a': 2, 'b': 7, 'c': 1}"
            ]
          },
          "execution_count": 15,
          "metadata": {},
          "output_type": "execute_result"
        }
      ],
      "source": [
        "d1 = {\"a\": 2, \"b\": 3}\n",
        "d2 = {\"b\": 4, \"c\": 1}\n",
        "merge_dict(d1,d2)"
      ]
    },
    {
      "cell_type": "markdown",
      "id": "8f930e0f",
      "metadata": {
        "id": "8f930e0f"
      },
      "source": [
        "## 3. **Invert a dictionary (keys become values and vice versa).**\n",
        "    - **Test Case:**\n",
        "    Input: `{\"a\": 1, \"b\": 2}`\n",
        "    Expected Output: `{1: \"a\", 2: \"b\"}`"
      ]
    },
    {
      "cell_type": "code",
      "execution_count": null,
      "id": "15fb0be3",
      "metadata": {
        "id": "15fb0be3",
        "outputId": "771a6396-a58e-4491-8b15-7423a4a055ce"
      },
      "outputs": [
        {
          "data": {
            "text/plain": [
              "{'a': 2, 'b': 3}"
            ]
          },
          "execution_count": 16,
          "metadata": {},
          "output_type": "execute_result"
        }
      ],
      "source": [
        "d1 = {\"a\": 2, \"b\": 3}\n",
        "for key,value in d1.items():\n",
        "    temp = key\n",
        "    key = value\n",
        "    value = temp\n",
        "# this  will not swap the key value as it has changed in the local variables\n",
        "\n"
      ]
    },
    {
      "cell_type": "code",
      "execution_count": null,
      "id": "2953e639",
      "metadata": {
        "id": "2953e639",
        "outputId": "ffe8878d-2ef5-4fa8-aa9c-1ef3f8b74e35"
      },
      "outputs": [
        {
          "data": {
            "text/plain": [
              "{2: 'a', 3: 'b'}"
            ]
          },
          "execution_count": 17,
          "metadata": {},
          "output_type": "execute_result"
        }
      ],
      "source": [
        "# correct implementation\n",
        "swap_dict = {value:key for key,value in d1.items()}\n",
        "swap_dict"
      ]
    },
    {
      "cell_type": "markdown",
      "id": "39f08cd8",
      "metadata": {
        "id": "39f08cd8"
      },
      "source": [
        "## 4. **Sort a dictionary by its keys.**\n",
        "    - **Test Case:**\n",
        "    Input: `{\"b\": 2, \"a\": 1}`\n",
        "    Expected Output: `{\"a\": 1, \"b\": 2}`"
      ]
    },
    {
      "cell_type": "code",
      "execution_count": null,
      "id": "6f967992",
      "metadata": {
        "id": "6f967992",
        "outputId": "bf3e9cf4-9025-4c5e-eaf6-e1e4291d6120"
      },
      "outputs": [
        {
          "data": {
            "text/plain": [
              "{'a': 1, 'b': 2}"
            ]
          },
          "execution_count": 20,
          "metadata": {},
          "output_type": "execute_result"
        }
      ],
      "source": [
        "d1 = {\"b\": 2, \"a\": 1}\n",
        "sort_d1 = {k:v for k,v in sorted(d1.items(),key = lambda x :x[0])}\n",
        "sort_d1"
      ]
    },
    {
      "cell_type": "markdown",
      "id": "79a62079",
      "metadata": {
        "id": "79a62079"
      },
      "source": [
        "## 5. **Sort a dictionary by its values.**\n",
        "    - **Test Case:**\n",
        "    Input: `{\"a\": 3, \"b\": 1, \"c\": 2}`\n",
        "    Expected Output: `{\"b\": 1, \"c\": 2, \"a\": 3}`"
      ]
    },
    {
      "cell_type": "code",
      "execution_count": null,
      "id": "d84c9cc5",
      "metadata": {
        "id": "d84c9cc5",
        "outputId": "2147c7a4-254a-4dab-cbb7-460ef8e2efa4"
      },
      "outputs": [
        {
          "data": {
            "text/plain": [
              "{'b': 1, 'c': 2, 'a': 3}"
            ]
          },
          "execution_count": 21,
          "metadata": {},
          "output_type": "execute_result"
        }
      ],
      "source": [
        "d1 = {\"a\": 3, \"b\": 1, \"c\": 2}\n",
        "sort_d1 = {k:v for k,v in sorted(d1.items(),key = lambda x :x[1])}\n",
        "sort_d1"
      ]
    },
    {
      "cell_type": "markdown",
      "id": "2afb466f",
      "metadata": {
        "id": "2afb466f"
      },
      "source": [
        "## 6. **Find common keys between two dictionaries.**\n",
        "    - **Test Case:**\n",
        "    Input: `{\"a\": 1, \"b\": 2}` and `{\"b\": 3, \"c\": 4}`\n",
        "    Expected Output: `[\"b\"]`"
      ]
    },
    {
      "cell_type": "code",
      "execution_count": null,
      "id": "035f2709",
      "metadata": {
        "id": "035f2709",
        "outputId": "a04b2e53-1de6-497e-bc62-cd5632c25d9f"
      },
      "outputs": [
        {
          "data": {
            "text/plain": [
              "{'b'}"
            ]
          },
          "execution_count": 22,
          "metadata": {},
          "output_type": "execute_result"
        }
      ],
      "source": [
        "d1 = {\"a\": 1, \"b\": 2}\n",
        "d2 = {\"b\": 3, \"c\": 4}\n",
        "d1_k = (k for k,v in d1.items())\n",
        "d2_k = (k for k,v in d2.items())\n",
        "set(d1_k).intersection(d2_k)"
      ]
    },
    {
      "cell_type": "markdown",
      "id": "b33cba3b",
      "metadata": {
        "id": "b33cba3b"
      },
      "source": [
        "## 7. **Update nested dictionaries recursively.**\n",
        "    - **Test Case:**\n",
        "    Input: `{\"a\": {\"x\": 1}}` and `{\"a\": {\"y\": 2}}`\n",
        "    Expected Output: `{\"a\": {\"x\": 1, \"y\": 2}}`"
      ]
    },
    {
      "cell_type": "code",
      "execution_count": null,
      "id": "a6836ba9",
      "metadata": {
        "id": "a6836ba9",
        "outputId": "81f96861-2913-4ada-e1c7-f19506ef794c"
      },
      "outputs": [
        {
          "name": "stdout",
          "output_type": "stream",
          "text": [
            "{'a': {'x': 1, 'y': 2}}\n"
          ]
        }
      ],
      "source": [
        "d1 = {\"a\": {\"x\": 1}}\n",
        "d2 = {\"a\": {\"y\": 2}}\n",
        "def recursive_update(d1,d2):\n",
        "    for key,value in d2.items():\n",
        "        if key in d1 and isinstance(d1[key],dict) and isinstance(value,dict):\n",
        "            recursive_update(d1[key],value)\n",
        "        else:\n",
        "            d1[key] = value\n",
        "    return d1\n",
        "\n",
        "print(recursive_update(d1,d2))"
      ]
    },
    {
      "cell_type": "markdown",
      "id": "0ffd793c",
      "metadata": {
        "id": "0ffd793c"
      },
      "source": [
        "## 8. **Flatten a nested dictionary (combine keys with delimiter).**\n",
        "    - **Test Case:**\n",
        "    Input: `{\"a\": {\"b\": 1}, \"c\": 2}`\n",
        "    Expected Output: `{\"a_b\": 1, \"c\": 2}`"
      ]
    },
    {
      "cell_type": "code",
      "execution_count": null,
      "id": "c329b57e",
      "metadata": {
        "id": "c329b57e",
        "outputId": "f7550e64-5e3f-49cd-fbc7-e6e3cc8403e8"
      },
      "outputs": [
        {
          "data": {
            "text/plain": [
              "{'a_b': 1, 'c': 2}"
            ]
          },
          "execution_count": 29,
          "metadata": {},
          "output_type": "execute_result"
        }
      ],
      "source": [
        "d1 = {\"a\": {\"b\": 1}, \"c\": 2}\n",
        "def flatten_dict(d,parent_key = '', sep = '_'):\n",
        "    items = {}\n",
        "    for k,v in d.items():\n",
        "        new_key = f\"{parent_key}{sep}{k}\" if parent_key else k\n",
        "        if isinstance(v,dict):\n",
        "            items.update(flatten_dict(v,new_key,sep=sep))\n",
        "        else:\n",
        "            items[new_key] = v\n",
        "    return items\n",
        "\n",
        "flatten_dict(d1)"
      ]
    },
    {
      "cell_type": "markdown",
      "id": "38c5b05c",
      "metadata": {
        "id": "38c5b05c"
      },
      "source": [
        "## 9. **Filter out keys with falsy values using dictionary comprehension.**\n",
        "    - **Test Case:**\n",
        "    Input: `{\"a\": 0, \"b\": 2, \"c\": None}`\n",
        "    Expected Output: `{\"b\": 2}`"
      ]
    },
    {
      "cell_type": "code",
      "execution_count": null,
      "id": "3cc4d488",
      "metadata": {
        "id": "3cc4d488",
        "outputId": "3f51899c-f2ad-4fe7-a829-378ae6e75de0"
      },
      "outputs": [
        {
          "data": {
            "text/plain": [
              "{'b': 2}"
            ]
          },
          "execution_count": 30,
          "metadata": {},
          "output_type": "execute_result"
        }
      ],
      "source": [
        "d1 = {\"a\": 0, \"b\": 2, \"c\": None}\n",
        "filter_d1 = {k:v for k,v in d1.items() if v}\n",
        "filter_d1\n"
      ]
    },
    {
      "cell_type": "markdown",
      "id": "7f96c558",
      "metadata": {
        "id": "7f96c558"
      },
      "source": [
        "## 10. **Convert a dictionary into a list of tuples.**\n",
        "    - **Test Case:**\n",
        "    Input: `{\"a\": 1, \"b\": 2}`\n",
        "    Expected Output: `[(\"a\", 1), (\"b\", 2)]`"
      ]
    },
    {
      "cell_type": "code",
      "execution_count": null,
      "id": "bfd5cbc1",
      "metadata": {
        "id": "bfd5cbc1",
        "outputId": "d289e491-b9be-498a-c792-1a4c6b8bcea4"
      },
      "outputs": [
        {
          "data": {
            "text/plain": [
              "[('a', 1), ('b', 2)]"
            ]
          },
          "execution_count": 31,
          "metadata": {},
          "output_type": "execute_result"
        }
      ],
      "source": [
        "d1 = {\"a\": 1, \"b\": 2}\n",
        "t = list(tuple(d1.items()))\n",
        "t"
      ]
    },
    {
      "cell_type": "markdown",
      "id": "60cf6e9f",
      "metadata": {
        "id": "60cf6e9f"
      },
      "source": [
        "## 11|. **Compute the frequency of words in a text.**\n",
        "    - **Test Case:**\n",
        "    Input: `\"hello world hello\"`\n",
        "    Expected Output: `{\"hello\": 2, \"world\": 1}`"
      ]
    },
    {
      "cell_type": "code",
      "execution_count": null,
      "id": "dbe59fc0",
      "metadata": {
        "id": "dbe59fc0"
      },
      "outputs": [],
      "source": [
        "from collections import Counter\n",
        "def word_freq(n):\n",
        "    words = n.split()\n",
        "    word_freq = Counter(words)\n",
        "    return dict(word_freq)\n"
      ]
    },
    {
      "cell_type": "code",
      "execution_count": null,
      "id": "607b0298",
      "metadata": {
        "id": "607b0298",
        "outputId": "230590ab-81f6-4408-a4cd-90c3f2d89105"
      },
      "outputs": [
        {
          "data": {
            "text/plain": [
              "{'hello': 2, 'world': 1}"
            ]
          },
          "execution_count": 35,
          "metadata": {},
          "output_type": "execute_result"
        }
      ],
      "source": [
        "word_freq(\"hello world hello\")"
      ]
    },
    {
      "cell_type": "markdown",
      "id": "63c6bff2",
      "metadata": {
        "id": "63c6bff2"
      },
      "source": [
        "## 12.**Group dictionary values by a computed property (e.g., length).**\n",
        "    - **Test Case:**\n",
        "    Input: `{\"a\": \"apple\", \"b\": \"banana\", \"c\": \"cat\"}`\n",
        "    Expected Output: Group by string length, e.g., `{5: [\"apple\"], 6: [\"banana\"], 3: [\"cat\"]}`"
      ]
    },
    {
      "cell_type": "code",
      "execution_count": null,
      "id": "db43da27",
      "metadata": {
        "id": "db43da27",
        "outputId": "d273cf4d-d2d4-44bf-88a4-9b86a0264c14"
      },
      "outputs": [
        {
          "data": {
            "text/plain": [
              "{5: 'apple', 6: 'banana', 3: 'cat'}"
            ]
          },
          "execution_count": 37,
          "metadata": {},
          "output_type": "execute_result"
        }
      ],
      "source": [
        "d2 = {}\n",
        "d1 = {\"a\": \"apple\", \"b\": \"banana\", \"c\": \"cat\"}\n",
        "for k,v in d1.items():\n",
        "    d2[len(v)]=v\n",
        "d2"
      ]
    },
    {
      "cell_type": "markdown",
      "id": "809a6c59",
      "metadata": {
        "id": "809a6c59"
      },
      "source": [
        "## 13.**Find the key with the highest value.**\n",
        "    - **Test Case:**\n",
        "    Input: `{\"a\": 3, \"b\": 7, \"c\": 5}`\n",
        "    Expected Output: `\"b\"`"
      ]
    },
    {
      "cell_type": "code",
      "execution_count": null,
      "id": "fa616e76",
      "metadata": {
        "id": "fa616e76",
        "outputId": "2f72ad7d-8060-46f6-fdae-ae5f634c723f"
      },
      "outputs": [
        {
          "name": "stdout",
          "output_type": "stream",
          "text": [
            "b\n"
          ]
        }
      ],
      "source": [
        "d1 = {\"a\": 3, \"b\": 7, \"c\": 5}\n",
        "ans = [k for k,v in sorted(d1.items(),key= lambda x :x[1])]\n",
        "print(ans[-1])"
      ]
    },
    {
      "cell_type": "code",
      "execution_count": null,
      "id": "159e46b7",
      "metadata": {
        "id": "159e46b7",
        "outputId": "d589580e-1778-4b31-94e1-1375f19ab44f"
      },
      "outputs": [
        {
          "data": {
            "text/plain": [
              "'b'"
            ]
          },
          "execution_count": 40,
          "metadata": {},
          "output_type": "execute_result"
        }
      ],
      "source": [
        "max(d1,key=d1.get)"
      ]
    },
    {
      "cell_type": "markdown",
      "id": "6ffb0f31",
      "metadata": {
        "id": "6ffb0f31"
      },
      "source": [
        "## 14. **Remove keys with specific values from a dictionary.**\n",
        "    - **Test Case:**\n",
        "    Input: `{\"a\": 1, \"b\": 0, \"c\": 3}`, remove keys with value 0\n",
        "    Expected Output: `{\"a\": 1, \"c\": 3}`"
      ]
    },
    {
      "cell_type": "code",
      "execution_count": null,
      "id": "f3d72155",
      "metadata": {
        "id": "f3d72155",
        "outputId": "780ceca8-3867-4c67-822a-93a3373f99c5"
      },
      "outputs": [
        {
          "ename": "RuntimeError",
          "evalue": "dictionary changed size during iteration",
          "output_type": "error",
          "traceback": [
            "\u001b[1;31m---------------------------------------------------------------------------\u001b[0m",
            "\u001b[1;31mRuntimeError\u001b[0m                              Traceback (most recent call last)",
            "Cell \u001b[1;32mIn[44], line 2\u001b[0m\n\u001b[0;32m      1\u001b[0m d1 \u001b[38;5;241m=\u001b[39m {\u001b[38;5;124m\"\u001b[39m\u001b[38;5;124ma\u001b[39m\u001b[38;5;124m\"\u001b[39m: \u001b[38;5;241m1\u001b[39m, \u001b[38;5;124m\"\u001b[39m\u001b[38;5;124mb\u001b[39m\u001b[38;5;124m\"\u001b[39m: \u001b[38;5;241m0\u001b[39m, \u001b[38;5;124m\"\u001b[39m\u001b[38;5;124mc\u001b[39m\u001b[38;5;124m\"\u001b[39m: \u001b[38;5;241m3\u001b[39m}\n\u001b[1;32m----> 2\u001b[0m \u001b[38;5;28;43;01mfor\u001b[39;49;00m\u001b[43m \u001b[49m\u001b[43mk\u001b[49m\u001b[43m,\u001b[49m\u001b[43mv\u001b[49m\u001b[43m \u001b[49m\u001b[38;5;129;43;01min\u001b[39;49;00m\u001b[43m \u001b[49m\u001b[43md1\u001b[49m\u001b[38;5;241;43m.\u001b[39;49m\u001b[43mitems\u001b[49m\u001b[43m(\u001b[49m\u001b[43m)\u001b[49m\u001b[43m:\u001b[49m\n\u001b[0;32m      3\u001b[0m \u001b[43m    \u001b[49m\u001b[38;5;28;43;01mif\u001b[39;49;00m\u001b[43m \u001b[49m\u001b[43mv\u001b[49m\u001b[38;5;241;43m==\u001b[39;49m\u001b[38;5;241;43m0\u001b[39;49m\u001b[43m:\u001b[49m\n\u001b[0;32m      4\u001b[0m \u001b[43m      \u001b[49m\u001b[38;5;28;43;01mdel\u001b[39;49;00m\u001b[43m \u001b[49m\u001b[43md1\u001b[49m\u001b[43m[\u001b[49m\u001b[43mk\u001b[49m\u001b[43m]\u001b[49m\n",
            "\u001b[1;31mRuntimeError\u001b[0m: dictionary changed size during iteration"
          ]
        }
      ],
      "source": [
        "d1 = {\"a\": 1, \"b\": 0, \"c\": 3}\n",
        "for k,v in d1.items():\n",
        "    if v==0:\n",
        "      del d1[k]\n",
        "d1\n",
        "# it will throw error as python does not allow modifying a dictionary's size while iterating over it because it can cause unpredictable behaviour"
      ]
    },
    {
      "cell_type": "code",
      "execution_count": null,
      "id": "82d43c91",
      "metadata": {
        "id": "82d43c91",
        "outputId": "6a53ed12-fae9-476e-943b-cabb6c834f52"
      },
      "outputs": [
        {
          "data": {
            "text/plain": [
              "{'a': 1, 'c': 3}"
            ]
          },
          "execution_count": 45,
          "metadata": {},
          "output_type": "execute_result"
        }
      ],
      "source": [
        "d1 = {\"a\": 1, \"b\": 0, \"c\": 3}\n",
        "d1 = {k:v for k,v in d1.items() if v!=0}\n",
        "d1"
      ]
    },
    {
      "cell_type": "markdown",
      "id": "af308302",
      "metadata": {
        "id": "af308302"
      },
      "source": [
        "## 15. **Perform a deep merge of two dictionaries.**\n",
        "    - **Test Case:**\n",
        "    Input: `{\"a\": {\"x\": 1}}` and `{\"a\": {\"y\": 2}, \"b\": 3}`\n",
        "    Expected Output: `{\"a\": {\"x\": 1, \"y\": 2}, \"b\": 3}`"
      ]
    },
    {
      "cell_type": "code",
      "execution_count": null,
      "id": "3c79bf59",
      "metadata": {
        "id": "3c79bf59"
      },
      "outputs": [],
      "source": [
        "d1 = {\"a\": {\"x\": 1}}\n",
        "d2 =  {\"a\": {\"y\": 2}, \"b\": 3}\n",
        "d3={}\n",
        "for k,v in d1.items():\n",
        "    if k in list(d2.keys()):\n",
        "        d2.update(d1[k])"
      ]
    },
    {
      "cell_type": "code",
      "execution_count": null,
      "id": "0527f5b2",
      "metadata": {
        "id": "0527f5b2",
        "outputId": "e4a5ad2b-8c07-4410-d865-e51c54dd4aab"
      },
      "outputs": [
        {
          "data": {
            "text/plain": [
              "{'a': {'y': 2}, 'b': 3, 'x': 1}"
            ]
          },
          "execution_count": 9,
          "metadata": {},
          "output_type": "execute_result"
        }
      ],
      "source": [
        "d2"
      ]
    },
    {
      "cell_type": "code",
      "execution_count": null,
      "id": "950ba422",
      "metadata": {
        "id": "950ba422",
        "outputId": "4523674b-062e-444d-9e8a-1c71ebcf5285"
      },
      "outputs": [
        {
          "name": "stdout",
          "output_type": "stream",
          "text": [
            "{'a': {'x': 1, 'y': 2}, 'b': 3}\n"
          ]
        }
      ],
      "source": [
        "def deep_merge(d1, d2):\n",
        "    \"\"\"\n",
        "    Recursively merge d2 into d1 and return the merged dictionary.\n",
        "    Values from d2 overwrite or merge into d1.\n",
        "    \"\"\"\n",
        "    for key, value in d2.items():\n",
        "        if key in d1 and isinstance(d1[key], dict) and isinstance(value, dict):\n",
        "            deep_merge(d1[key], value)\n",
        "        else:\n",
        "            d1[key] = value\n",
        "    return d1\n",
        "\n",
        "d1 = {\"a\": {\"x\": 1}}\n",
        "d2 = {\"a\": {\"y\": 2}, \"b\": 3}\n",
        "\n",
        "merged = deep_merge(d1, d2)\n",
        "print(merged)"
      ]
    },
    {
      "cell_type": "markdown",
      "id": "0ef9a8a5",
      "metadata": {
        "id": "0ef9a8a5"
      },
      "source": [
        "## 16. **Count the total number of keys in a nested dictionary.**\n",
        "    - **Test Case:**\n",
        "    Input: `{\"a\": {\"x\": 1, \"y\": 2}, \"b\": 3}`\n",
        "    Expected Output: `3`"
      ]
    },
    {
      "cell_type": "code",
      "execution_count": null,
      "id": "c846e775",
      "metadata": {
        "id": "c846e775"
      },
      "outputs": [],
      "source": [
        "def count_keys(d):\n",
        "    total =0\n",
        "    for k,v in d.items():\n",
        "        total +=1\n",
        "        if isinstance(v,dict):\n",
        "            total +=count_keys(v)\n",
        "    return total"
      ]
    },
    {
      "cell_type": "code",
      "execution_count": null,
      "id": "358eade8",
      "metadata": {
        "id": "358eade8",
        "outputId": "35a8ca17-7c67-4929-9548-f0876db8a63f"
      },
      "outputs": [
        {
          "data": {
            "text/plain": [
              "4"
            ]
          },
          "execution_count": 14,
          "metadata": {},
          "output_type": "execute_result"
        }
      ],
      "source": [
        "count_keys({\"a\": {\"x\": 1, \"y\": 2}, \"b\": 3})"
      ]
    },
    {
      "cell_type": "markdown",
      "id": "7582478a",
      "metadata": {
        "id": "7582478a"
      },
      "source": [
        "## 17. **Use defaultdict to group items by a property.**\n",
        "    - **Test Case:**\n",
        "    Input: List of tuples: `[(\"apple\", \"fruit\"), (\"carrot\", \"veg\"), (\"banana\", \"fruit\")]`\n",
        "    Expected Output: `{\"fruit\": [\"apple\", \"banana\"], \"veg\": [\"carrot\"]}`"
      ]
    },
    {
      "cell_type": "code",
      "execution_count": null,
      "id": "c6181932",
      "metadata": {
        "id": "c6181932",
        "outputId": "5ceb1087-498f-494d-9fda-026967da6457"
      },
      "outputs": [
        {
          "data": {
            "text/plain": [
              "str"
            ]
          },
          "execution_count": 4,
          "metadata": {},
          "output_type": "execute_result"
        }
      ],
      "source": [
        "d1 = [(\"apple\", \"fruit\"), (\"carrot\", \"veg\"), (\"banana\", \"fruit\")]\n",
        "type(d1[0][0])"
      ]
    },
    {
      "cell_type": "code",
      "execution_count": null,
      "id": "68054968",
      "metadata": {
        "id": "68054968",
        "outputId": "05bf6a59-a560-4f45-9c42-0fb06984ea00"
      },
      "outputs": [
        {
          "data": {
            "text/plain": [
              "'apple'"
            ]
          },
          "execution_count": 5,
          "metadata": {},
          "output_type": "execute_result"
        }
      ],
      "source": [
        "d1[0][0]"
      ]
    },
    {
      "cell_type": "code",
      "execution_count": null,
      "id": "9102628c",
      "metadata": {
        "id": "9102628c",
        "outputId": "5d68a2af-1f67-4ab7-9f27-2ebfcb0ae98f"
      },
      "outputs": [
        {
          "data": {
            "text/plain": [
              "{'fruit': ['apple', 'banana'], 'veg': ['carrot']}"
            ]
          },
          "execution_count": 9,
          "metadata": {},
          "output_type": "execute_result"
        }
      ],
      "source": [
        "from collections import  defaultdict\n",
        "grouped = defaultdict(list)\n",
        "\n",
        "for key, value in d1:\n",
        "    grouped[value].append(key)\n",
        "\n",
        "dict(grouped)"
      ]
    },
    {
      "cell_type": "markdown",
      "id": "f06cb9cf",
      "metadata": {
        "id": "f06cb9cf"
      },
      "source": [
        "## 18. **Return a new dictionary mapping each key to the length of its associated value (if list or string).**\n",
        "    - **Test Case:**\n",
        "    Input: `{\"a\": \"hello\", \"b\": [1,2,3]}`\n",
        "    Expected Output: `{\"a\": 5, \"b\": 3}`"
      ]
    },
    {
      "cell_type": "code",
      "execution_count": null,
      "id": "97caff6d",
      "metadata": {
        "id": "97caff6d",
        "outputId": "4b6555b4-603a-4a83-94fd-e0bfc6a5c364"
      },
      "outputs": [
        {
          "name": "stdout",
          "output_type": "stream",
          "text": [
            "a 5\n",
            "b 3\n"
          ]
        },
        {
          "data": {
            "text/plain": [
              "{'a': 5, 'b': 3}"
            ]
          },
          "execution_count": 13,
          "metadata": {},
          "output_type": "execute_result"
        }
      ],
      "source": [
        "d2 ={}\n",
        "d1 ={\"a\": \"hello\", \"b\": [1,2,3]}\n",
        "for key,value in d1.items():\n",
        "    print(key,len(value))\n",
        "    d2[key] = len(value)\n",
        "d2"
      ]
    },
    {
      "cell_type": "markdown",
      "id": "82ca6ae1",
      "metadata": {
        "id": "82ca6ae1"
      },
      "source": [
        "## 19. **Perform key lookups safely and return a default value when missing.**\n",
        "    - **Test Case:**\n",
        "    Input: Dictionary `{\"a\": 1}` with lookup for key `\"b\"`, default value `0`\n",
        "    Expected Output: `0`"
      ]
    },
    {
      "cell_type": "code",
      "execution_count": null,
      "id": "2fe37087",
      "metadata": {
        "id": "2fe37087",
        "outputId": "a96f75c4-5d4a-41cd-9069-be9552abf964"
      },
      "outputs": [
        {
          "data": {
            "text/plain": [
              "0"
            ]
          },
          "execution_count": 28,
          "metadata": {},
          "output_type": "execute_result"
        }
      ],
      "source": [
        "d1 = {\"a\":1}\n",
        "def dict_key(d1,k):\n",
        "    if k in d1.keys():\n",
        "        return d1[k]\n",
        "    else:\n",
        "        return 0\n",
        "\n",
        "dict_key(d1,k='b')\n"
      ]
    },
    {
      "cell_type": "markdown",
      "id": "48cbc7f3",
      "metadata": {
        "id": "48cbc7f3"
      },
      "source": [
        "# Exception Handling"
      ]
    },
    {
      "cell_type": "markdown",
      "id": "7aa83300",
      "metadata": {
        "id": "7aa83300"
      },
      "source": [
        "## Q1 1. **Divide two numbers and handle division by zero.**\n",
        "    - **Test Case:**\n",
        "    Input: `(10, 2)` → Output: `5`\n",
        "    Input: `(10, 0)` → Expected: Handle exception (e.g., return a message or raise custom error)."
      ]
    },
    {
      "cell_type": "code",
      "execution_count": null,
      "id": "647c35ee",
      "metadata": {
        "id": "647c35ee"
      },
      "outputs": [],
      "source": [
        "def handle_zero(a,b):\n",
        "    try:\n",
        "        result = a/b\n",
        "        return result\n",
        "    except ZeroDivisionError:\n",
        "        return 'denomitaor cannot be zero'"
      ]
    },
    {
      "cell_type": "code",
      "execution_count": null,
      "id": "ca1562d4",
      "metadata": {
        "id": "ca1562d4",
        "outputId": "58f6735b-e27d-48c7-c580-7bd5ba68aee3"
      },
      "outputs": [
        {
          "data": {
            "text/plain": [
              "3.3333333333333335"
            ]
          },
          "execution_count": 36,
          "metadata": {},
          "output_type": "execute_result"
        }
      ],
      "source": [
        "handle_zero(10,3)"
      ]
    },
    {
      "cell_type": "markdown",
      "id": "99376961",
      "metadata": {
        "id": "99376961"
      },
      "source": [
        "## Q2 - 2. **Read a file and handle file-not-found error.**\n",
        "    - **Test Case:**\n",
        "    Input: Filename `\"existing.txt\"` (if exists) → Output: file content\n",
        "    Input: Filename `\"nonexistent.txt\"` → Expected: Catch `FileNotFoundError`."
      ]
    },
    {
      "cell_type": "code",
      "execution_count": null,
      "id": "47fa9bbc",
      "metadata": {
        "id": "47fa9bbc"
      },
      "outputs": [],
      "source": [
        "def safe_read(f):\n",
        "    try:\n",
        "        with open(f,'r') as r:\n",
        "            r.read()\n",
        "    except FileNotFoundError:\n",
        "        return 'File not found'"
      ]
    },
    {
      "cell_type": "code",
      "execution_count": null,
      "id": "a5aaacec",
      "metadata": {
        "id": "a5aaacec",
        "outputId": "b326d5c9-e240-4518-c007-17bb731eac91"
      },
      "outputs": [
        {
          "data": {
            "text/plain": [
              "'File not found'"
            ]
          },
          "execution_count": 39,
          "metadata": {},
          "output_type": "execute_result"
        }
      ],
      "source": [
        "safe_read('rambo2.txt')"
      ]
    },
    {
      "cell_type": "markdown",
      "id": "b0861101",
      "metadata": {
        "id": "b0861101"
      },
      "source": [
        "## Q3 . **Create and raise a custom exception for invalid input.**\n",
        "    - **Test Case:**\n",
        "    Input: Value not meeting criteria → Expected: CustomException raised."
      ]
    },
    {
      "cell_type": "code",
      "execution_count": null,
      "id": "383f9e0f",
      "metadata": {
        "id": "383f9e0f",
        "outputId": "6134f3c1-2fe0-4d25-8c86-ce9259d6d884"
      },
      "outputs": [
        {
          "name": "stdout",
          "output_type": "stream",
          "text": [
            "invalid input as it is not a integer and custom exception raised as Invalid input : 5\n"
          ]
        }
      ],
      "source": [
        "class CustomException(Exception):\n",
        "    pass\n",
        "\n",
        "def validate_input(value):\n",
        "     if isinstance(value,int) or value <= 10:\n",
        "          raise CustomException(f\"Invalid input : {value}\")\n",
        "try:\n",
        "    test_value = 5\n",
        "    validate_input(test_value)\n",
        "except CustomException as e:\n",
        "        print(f\"invalid input as it is not a integer and custom exception raised as {e}\" )"
      ]
    },
    {
      "cell_type": "markdown",
      "id": "f195ca29",
      "metadata": {
        "id": "f195ca29"
      },
      "source": [
        "## Q4. **Try-except with else and finally clauses.**\n",
        "    - **Test Case:**\n",
        "    Write a block that normally runs without error (check that else executes) and one where error occurs (finally always executes)."
      ]
    },
    {
      "cell_type": "code",
      "execution_count": null,
      "id": "ab7c0154",
      "metadata": {
        "id": "ab7c0154"
      },
      "outputs": [],
      "source": [
        "def divide(a,b):\n",
        "    try:\n",
        "        print('trying to divide')\n",
        "        result = a/b\n",
        "    except ZeroDivisionError:\n",
        "        print('Caught ZeroDivision Error')\n",
        "        return 'cannot divide by zero'\n",
        "    else:\n",
        "        print('Division Successful')\n",
        "        return result\n",
        "    finally:\n",
        "        print('cleaning up')\n"
      ]
    },
    {
      "cell_type": "code",
      "execution_count": null,
      "id": "9ed7a80c",
      "metadata": {
        "id": "9ed7a80c",
        "outputId": "25e40899-47fe-4bf7-9cb8-d2e677b02eab"
      },
      "outputs": [
        {
          "name": "stdout",
          "output_type": "stream",
          "text": [
            "trying to divide\n",
            "Caught ZeroDivision Error\n",
            "cleaning up\n"
          ]
        },
        {
          "data": {
            "text/plain": [
              "'cannot divide by zero'"
            ]
          },
          "execution_count": 58,
          "metadata": {},
          "output_type": "execute_result"
        }
      ],
      "source": [
        "divide(10,0)"
      ]
    },
    {
      "cell_type": "markdown",
      "id": "d340cfe5",
      "metadata": {
        "id": "d340cfe5"
      },
      "source": [
        "## Q5. **Validate user input and raise a ValueError if out of range.**\n",
        "    - **Test Case:**\n",
        "    Input: `age = -5` → Expected: Raise `ValueError`."
      ]
    },
    {
      "cell_type": "code",
      "execution_count": null,
      "id": "6705ff95",
      "metadata": {
        "id": "6705ff95",
        "outputId": "8f041a05-cd40-4779-a99b-f2096f43370c"
      },
      "outputs": [
        {
          "name": "stdout",
          "output_type": "stream",
          "text": [
            "valueerror raised as expected:  Age cannot be negative \n"
          ]
        }
      ],
      "source": [
        "def valid_input(age):\n",
        "    if age<0:\n",
        "        raise ValueError(\"Age cannot be negative\")\n",
        "    else:\n",
        "        pass\n",
        "\n",
        "try:\n",
        "    valid_input(-5)\n",
        "except ValueError as e:\n",
        "    print(f\"valueerror raised as expected:  {e} \")"
      ]
    },
    {
      "cell_type": "markdown",
      "id": "4ee25b41",
      "metadata": {
        "id": "4ee25b41"
      },
      "source": [
        "## Q6. **Catch multiple exceptions in a single except clause.**\n",
        "    - **Test Case:**\n",
        "    Code that can raise either `TypeError` or `ValueError` → Ensure both are caught."
      ]
    },
    {
      "cell_type": "code",
      "execution_count": null,
      "id": "5fb10f2f",
      "metadata": {
        "id": "5fb10f2f",
        "outputId": "bd9cb73f-46fa-4284-de95-9fcf16b19cdb"
      },
      "outputs": [
        {
          "name": "stdout",
          "output_type": "stream",
          "text": [
            "Handling ValueError differently: Negative value not allowed!\n"
          ]
        }
      ],
      "source": [
        "def test_func(value):\n",
        "    if not isinstance(value, int):\n",
        "        raise TypeError(\"Not an integer!\")\n",
        "    if value < 0:\n",
        "        raise ValueError(\"Negative value not allowed!\")\n",
        "    return value\n",
        "\n",
        "try:\n",
        "    test_func(-10)  # Change to \"hello\" or -10 to test exceptions\n",
        "except TypeError as e:\n",
        "    print(f\"Handling TypeError differently: {e}\")\n",
        "except ValueError as e:\n",
        "    print(f\"Handling ValueError differently: {e}\")"
      ]
    },
    {
      "cell_type": "markdown",
      "id": "5980a297",
      "metadata": {
        "id": "5980a297"
      },
      "source": [
        "## Q7 **Implement a context manager that handles exceptions.**\n",
        "    - **Test Case:**\n",
        "    Use your custom context manager in a `with` block that causes an exception; ensure proper cleanup."
      ]
    },
    {
      "cell_type": "markdown",
      "source": [
        "#leetcode"
      ],
      "metadata": {
        "id": "cfqIK0c-bk4h"
      },
      "id": "cfqIK0c-bk4h"
    },
    {
      "cell_type": "markdown",
      "source": [
        "## twoSum"
      ],
      "metadata": {
        "id": "ORCFTIQddRcg"
      },
      "id": "ORCFTIQddRcg"
    },
    {
      "cell_type": "markdown",
      "source": [
        " Given an array of integers nums and an integer target, return indices of the two numbers such that they add up to target.\n",
        "\n",
        "You may assume that each input would have exactly one solution, and you may not use the same element twice.\n",
        "\n"
      ],
      "metadata": {
        "id": "uMp23_bpbp0K"
      },
      "id": "uMp23_bpbp0K"
    },
    {
      "cell_type": "markdown",
      "source": [],
      "metadata": {
        "id": "Eq1Jlvwmbogi"
      },
      "id": "Eq1Jlvwmbogi"
    },
    {
      "cell_type": "code",
      "source": [
        "from typing import List"
      ],
      "metadata": {
        "id": "t71tZ57Zb-Kz"
      },
      "id": "t71tZ57Zb-Kz",
      "execution_count": null,
      "outputs": []
    },
    {
      "cell_type": "code",
      "execution_count": null,
      "id": "92cf3cc4",
      "metadata": {
        "id": "92cf3cc4"
      },
      "outputs": [],
      "source": [
        "\n",
        "class Solution:\n",
        "    def twoSum(self, nums: List[int], target: int) -> List[int]:\n",
        "        for i in range(len(nums)):\n",
        "            for j in range(i+1,len(nums)):\n",
        "                if nums[i]+nums[j] == target:\n",
        "                    return [i,j]\n"
      ]
    },
    {
      "cell_type": "code",
      "source": [
        "sol = Solution()\n",
        "nums = [2,7,11,15]\n",
        "target = 26\n",
        "res = sol.twoSum(nums,target)\n",
        "print(res)"
      ],
      "metadata": {
        "colab": {
          "base_uri": "https://localhost:8080/"
        },
        "id": "dQO3PujjbwjP",
        "outputId": "99a65d6c-65b8-4832-8fae-eb3833b97975"
      },
      "id": "dQO3PujjbwjP",
      "execution_count": null,
      "outputs": [
        {
          "output_type": "stream",
          "name": "stdout",
          "text": [
            "[2, 3]\n"
          ]
        }
      ]
    },
    {
      "cell_type": "markdown",
      "source": [
        "# Valid Parenthesis"
      ],
      "metadata": {
        "id": "opIFbusn9UDV"
      },
      "id": "opIFbusn9UDV"
    },
    {
      "cell_type": "code",
      "source": [
        "class Solution:\n",
        "    def isValid(self, s: str) -> bool:\n",
        "        st = []\n",
        "        for i in s:\n",
        "            if i == '(' or i == '{' or i == '[':\n",
        "                st.append(i)\n",
        "            else:\n",
        "                if st and (\n",
        "                (st[-1] == '(' and i ==')') or\n",
        "                (st[-1] == '[' and i ==']') or\n",
        "                (st[-1] == '{' and i =='}')\n",
        "                ):\n",
        "                  st.pop()\n",
        "                else:\n",
        "                    return False\n",
        "        return not st"
      ],
      "metadata": {
        "id": "TjGdVeNocfm-"
      },
      "id": "TjGdVeNocfm-",
      "execution_count": 2,
      "outputs": []
    },
    {
      "cell_type": "code",
      "source": [
        "sol = Solution()\n",
        "s = \"(]\"\n",
        "res = sol.isValid(s)\n",
        "print(res)"
      ],
      "metadata": {
        "colab": {
          "base_uri": "https://localhost:8080/"
        },
        "id": "wIlWaCAU9aym",
        "outputId": "d991ec31-3af4-4949-e16a-710f5a4147a0"
      },
      "id": "wIlWaCAU9aym",
      "execution_count": 3,
      "outputs": [
        {
          "output_type": "stream",
          "name": "stdout",
          "text": [
            "False\n"
          ]
        }
      ]
    },
    {
      "cell_type": "code",
      "source": [
        "s = \"([])\"\n",
        "res = sol.isValid(s)\n",
        "print(res)"
      ],
      "metadata": {
        "colab": {
          "base_uri": "https://localhost:8080/"
        },
        "id": "gWSx0-1v9qga",
        "outputId": "00a4cb7b-80f3-4981-c97c-d0d55746f16d"
      },
      "id": "gWSx0-1v9qga",
      "execution_count": 4,
      "outputs": [
        {
          "output_type": "stream",
          "name": "stdout",
          "text": [
            "True\n"
          ]
        }
      ]
    },
    {
      "cell_type": "code",
      "source": [],
      "metadata": {
        "id": "9Z7VNu0T9yo7"
      },
      "id": "9Z7VNu0T9yo7",
      "execution_count": null,
      "outputs": []
    }
  ],
  "metadata": {
    "colab": {
      "provenance": [],
      "toc_visible": true,
      "include_colab_link": true
    },
    "kernelspec": {
      "display_name": "Python 3",
      "language": "python",
      "name": "python3"
    },
    "language_info": {
      "codemirror_mode": {
        "name": "ipython",
        "version": 3
      },
      "file_extension": ".py",
      "mimetype": "text/x-python",
      "name": "python",
      "nbconvert_exporter": "python",
      "pygments_lexer": "ipython3",
      "version": "3.11.8"
    }
  },
  "nbformat": 4,
  "nbformat_minor": 5
}