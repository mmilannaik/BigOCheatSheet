{
  "cells": [
    {
      "cell_type": "markdown",
      "metadata": {
        "id": "view-in-github",
        "colab_type": "text"
      },
      "source": [
        "<a href=\"https://colab.research.google.com/github/mmilannaik/BigOCheatSheet/blob/master/FastAPI_01.ipynb\" target=\"_parent\"><img src=\"https://colab.research.google.com/assets/colab-badge.svg\" alt=\"Open In Colab\"/></a>"
      ]
    },
    {
      "cell_type": "markdown",
      "source": [
        "# Importing Libraries"
      ],
      "metadata": {
        "id": "j4XrnMnITnjf"
      }
    },
    {
      "cell_type": "code",
      "source": [
        "!pip install fastapi uvicorn nest-asyncio pyngrok\n"
      ],
      "metadata": {
        "id": "xLEV2E4rJMA0",
        "outputId": "be733b6a-a611-4a8b-fbc3-f1f80bbd1494",
        "colab": {
          "base_uri": "https://localhost:8080/"
        }
      },
      "execution_count": 1,
      "outputs": [
        {
          "output_type": "stream",
          "name": "stdout",
          "text": [
            "Requirement already satisfied: fastapi in /usr/local/lib/python3.11/dist-packages (0.115.14)\n",
            "Requirement already satisfied: uvicorn in /usr/local/lib/python3.11/dist-packages (0.35.0)\n",
            "Requirement already satisfied: nest-asyncio in /usr/local/lib/python3.11/dist-packages (1.6.0)\n",
            "Collecting pyngrok\n",
            "  Downloading pyngrok-7.2.12-py3-none-any.whl.metadata (9.4 kB)\n",
            "Requirement already satisfied: starlette<0.47.0,>=0.40.0 in /usr/local/lib/python3.11/dist-packages (from fastapi) (0.46.2)\n",
            "Requirement already satisfied: pydantic!=1.8,!=1.8.1,!=2.0.0,!=2.0.1,!=2.1.0,<3.0.0,>=1.7.4 in /usr/local/lib/python3.11/dist-packages (from fastapi) (2.11.7)\n",
            "Requirement already satisfied: typing-extensions>=4.8.0 in /usr/local/lib/python3.11/dist-packages (from fastapi) (4.14.1)\n",
            "Requirement already satisfied: click>=7.0 in /usr/local/lib/python3.11/dist-packages (from uvicorn) (8.2.1)\n",
            "Requirement already satisfied: h11>=0.8 in /usr/local/lib/python3.11/dist-packages (from uvicorn) (0.16.0)\n",
            "Requirement already satisfied: PyYAML>=5.1 in /usr/local/lib/python3.11/dist-packages (from pyngrok) (6.0.2)\n",
            "Requirement already satisfied: annotated-types>=0.6.0 in /usr/local/lib/python3.11/dist-packages (from pydantic!=1.8,!=1.8.1,!=2.0.0,!=2.0.1,!=2.1.0,<3.0.0,>=1.7.4->fastapi) (0.7.0)\n",
            "Requirement already satisfied: pydantic-core==2.33.2 in /usr/local/lib/python3.11/dist-packages (from pydantic!=1.8,!=1.8.1,!=2.0.0,!=2.0.1,!=2.1.0,<3.0.0,>=1.7.4->fastapi) (2.33.2)\n",
            "Requirement already satisfied: typing-inspection>=0.4.0 in /usr/local/lib/python3.11/dist-packages (from pydantic!=1.8,!=1.8.1,!=2.0.0,!=2.0.1,!=2.1.0,<3.0.0,>=1.7.4->fastapi) (0.4.1)\n",
            "Requirement already satisfied: anyio<5,>=3.6.2 in /usr/local/lib/python3.11/dist-packages (from starlette<0.47.0,>=0.40.0->fastapi) (4.9.0)\n",
            "Requirement already satisfied: idna>=2.8 in /usr/local/lib/python3.11/dist-packages (from anyio<5,>=3.6.2->starlette<0.47.0,>=0.40.0->fastapi) (3.10)\n",
            "Requirement already satisfied: sniffio>=1.1 in /usr/local/lib/python3.11/dist-packages (from anyio<5,>=3.6.2->starlette<0.47.0,>=0.40.0->fastapi) (1.3.1)\n",
            "Downloading pyngrok-7.2.12-py3-none-any.whl (26 kB)\n",
            "Installing collected packages: pyngrok\n",
            "Successfully installed pyngrok-7.2.12\n"
          ]
        }
      ]
    },
    {
      "cell_type": "markdown",
      "source": [
        "# Base code"
      ],
      "metadata": {
        "id": "M7ddBsozTkg4"
      }
    },
    {
      "cell_type": "code",
      "source": [
        "!ngrok config add-authtoken YourToken"
      ],
      "metadata": {
        "id": "TvMKK9sPMCvp",
        "outputId": "b8ea8770-1e94-4b11-8847-5703dae7ef4c",
        "colab": {
          "base_uri": "https://localhost:8080/"
        }
      },
      "execution_count": 2,
      "outputs": [
        {
          "output_type": "stream",
          "name": "stdout",
          "text": [
            "Authtoken saved to configuration file: /root/.config/ngrok/ngrok.yml\n"
          ]
        }
      ]
    },
    {
      "cell_type": "code",
      "source": [
        "from fastapi import FastAPI\n",
        "import nest_asyncio\n",
        "from pyngrok import ngrok\n",
        "import uvicorn\n",
        "\n",
        "# Allow nested event loops (needed in Colab)\n",
        "nest_asyncio.apply()\n",
        "\n",
        "# Create FastAPI app\n",
        "app = FastAPI()\n",
        "\n",
        "@app.get(\"/\")\n",
        "def hello():\n",
        "    return {'message':'Hello world'}\n",
        "\n",
        "@app.get('/about')\n",
        "def about():\n",
        "    return {'message':'Campusx is an education platform where youcan learn AI'}\n",
        "\n",
        "# Expose the app to the outside world with ngrok\n",
        "public_url = ngrok.connect(8000)\n",
        "print('Public URL:', public_url)\n",
        "\n",
        "# Run the FastAPI app\n",
        "uvicorn.run(app, host=\"0.0.0.0\", port=8000)\n"
      ],
      "metadata": {
        "id": "jXrJCckwJG1V",
        "outputId": "f7c0e7c2-5cef-4c36-8d67-459d404ae7f2",
        "colab": {
          "base_uri": "https://localhost:8080/"
        }
      },
      "execution_count": 8,
      "outputs": [
        {
          "output_type": "stream",
          "name": "stderr",
          "text": [
            "INFO:     Started server process [509]\n",
            "INFO:     Waiting for application startup.\n",
            "INFO:     Application startup complete.\n",
            "INFO:     Uvicorn running on http://0.0.0.0:8000 (Press CTRL+C to quit)\n"
          ]
        },
        {
          "output_type": "stream",
          "name": "stdout",
          "text": [
            "Public URL: NgrokTunnel: \"https://195e592fe4ca.ngrok-free.app\" -> \"http://localhost:8000\"\n",
            "INFO:     167.103.7.98:0 - \"GET / HTTP/1.1\" 200 OK\n",
            "INFO:     167.103.7.98:0 - \"GET /favicon.ico HTTP/1.1\" 404 Not Found\n"
          ]
        },
        {
          "output_type": "stream",
          "name": "stderr",
          "text": [
            "INFO:     Shutting down\n",
            "INFO:     Waiting for application shutdown.\n",
            "INFO:     Application shutdown complete.\n",
            "INFO:     Finished server process [509]\n"
          ]
        }
      ]
    },
    {
      "cell_type": "markdown",
      "source": [
        "# Patient Code"
      ],
      "metadata": {
        "id": "n4XRoK5UTrDh"
      }
    },
    {
      "cell_type": "code",
      "source": [
        "from fastapi import FastAPI,Path,HTTPException,Query\n",
        "from fastapi.responses import JSONResponse\n",
        "import nest_asyncio\n",
        "from pyngrok import ngrok\n",
        "import uvicorn,json\n",
        "from pydantic import BaseModel,Field,computed_field\n",
        "from typing import Annotated,Literal,Optional\n",
        "\n",
        "# Allow nested event loops (needed in Colab)\n",
        "nest_asyncio.apply()\n",
        "\n",
        "# Create FastAPI app\n",
        "app = FastAPI()\n",
        "\n",
        "class Patient(BaseModel):\n",
        "  id: Annotated[str, Field(...,description = 'ID of the patient',examples = ['P001'])]\n",
        "  name :Annotated[str,Field(...,description = 'Name of the patient')]\n",
        "  city: Annotated[str, Field(...,description = 'City where the patient living')]\n",
        "  age: Annotated[int, Field(...,gt=0,lt=120,description ='age of the patient')]\n",
        "  gender: Annotated[Literal['male','female','others'], Field(...,description = 'Gender of patient')]\n",
        "  height:Annotated[float, Field(...,gt=0,description = 'Height of patient in mtrs')]\n",
        "  weight:Annotated[float,Field(...,gt=0,description = 'Weight of patient in kgs')]\n",
        "\n",
        "  @computed_field\n",
        "  @property\n",
        "  def bmi(self)->float:\n",
        "    bmi = round(self.weight/(self.height**2),2)\n",
        "\n",
        "  @computed_field\n",
        "  @property\n",
        "  def verdict(self)->str:\n",
        "    if self.bmi <18.5:\n",
        "      return 'underweight'\n",
        "    elif self.bmi <25:\n",
        "      return 'Normal'\n",
        "    elif self.bmi <30:\n",
        "      return 'Normal'\n",
        "    else:\n",
        "      return 'obese'\n",
        "\n",
        "class PatientUpdate(BaseModel):\n",
        "    name: Annotated[Optional[str], Field(default=None)]\n",
        "    city: Annotated[Optional[str], Field(default=None)]\n",
        "    age: Annotated[Optional[int], Field(default=None, gt=0)]\n",
        "    gender: Annotated[Optional[Literal['male', 'female']], Field(default=None)]\n",
        "    height: Annotated[Optional[float], Field(default=None, gt=0)]\n",
        "    weight: Annotated[Optional[float], Field(default=None, gt=0)]\n",
        "\n",
        "\n",
        "def load_data():\n",
        "  with open('/content/patients.json','r') as f:\n",
        "    data = json.load(f)\n",
        "  return data\n",
        "\n",
        "def save_data(data):\n",
        "  with open('/content/patients.json','r') as f:\n",
        "    json.dump(data,f)\n",
        "\n",
        "@app.get(\"/\")\n",
        "def hello():\n",
        "    return {'message':'Patient Managemet System API'}\n",
        "\n",
        "@app.get('/about')\n",
        "def about():\n",
        "    return {'message':'A fully functional API to manage your patient records'}\n",
        "\n",
        "@app.get('/view')\n",
        "def view():\n",
        "  data = load_data()\n",
        "  return data\n",
        "\n",
        "@app.get('/patient/{patient_id}')\n",
        "def view_patient(patient_id :str = Path(..., description='ID of the patient in the DB', example='P001')):\n",
        "  # load all patients\n",
        "  data = load_data()\n",
        "  patient_id = patient_id.upper()\n",
        "  if patient_id in data:\n",
        "    return data[patient_id]\n",
        "  return HTTPException(status_code= 404,detail='patient not found')\n",
        "\n",
        "@app.get('/sort')\n",
        "def sort_patients(sort_by: str = Query(...,description = 'Sort on the bais of height, weight or bmi'),order: str = Query('asc',description ='sort in asc or desc order')):\n",
        "  valid_fields = ['height','weight','bmi']\n",
        "  if sort_by not in valid_fields:\n",
        "    raise HTTPException(status_code = 400,detail = f'Invalid field selected from {valid_fields}')\n",
        "  if order not in ['asc','desc']:\n",
        "    raise HTTPException(status_code = 400,detail = f'Invalid field selected between asc and desc')\n",
        "  data = load_data()\n",
        "\n",
        "  sort_order = True if order =='desc' else False\n",
        "  sorted_data = sorted(data.values(),key = lambda x:x.get(sort_by,0),reverse=sort_order)\n",
        "\n",
        "  return sorted_data\n",
        "\n",
        "@app.post('/create')\n",
        "def create_patient(patient: Patient):\n",
        "  # load existing data\n",
        "  data = load_data()\n",
        "  # check if the patient already exists\n",
        "  if patient.id in data:\n",
        "    raise HTTPException(status_code=400, detail = 'Patient already exists')\n",
        "\n",
        "  # new patient add to db\n",
        "  data[patient.id] = patient.model_dump(exclude=['id'])\n",
        "\n",
        "  # save data into json file\n",
        "  save_data(data)\n",
        "\n",
        "  return JSONResponse(status_code=201,content={'message':'patient created sucessfully'})\n",
        "\n",
        "@app.put('edit/{patien_id}')\n",
        "def update_patient(patient_id: str, patient_update:PatientUpdate):\n",
        "  data = load_data()\n",
        "\n",
        "  if patient_id not in data:\n",
        "    raise HTTPException(status_code=404,detail ='Patient not found')\n",
        "  existing_patient_info = data[patient_id]\n",
        "\n",
        "  updated_patient_info = patient_update.model_dump(exclude_unset=True) # only filled item willbe sent\n",
        "  for key,value in updated_patient_info.items( )\n",
        "\n",
        "# Expose the app to the outside world with ngrok\n",
        "public_url = ngrok.connect(8000)\n",
        "print('Public URL:', public_url)\n",
        "\n",
        "# Run the FastAPI app\n",
        "uvicorn.run(app, host=\"0.0.0.0\", port=8000)\n",
        "\n"
      ],
      "metadata": {
        "id": "dgzyXaMOJIL0",
        "outputId": "5edd61e4-31fb-4639-8e72-629eb2ffcb1e",
        "colab": {
          "base_uri": "https://localhost:8080/"
        }
      },
      "execution_count": 3,
      "outputs": [
        {
          "output_type": "stream",
          "name": "stderr",
          "text": [
            "/tmp/ipython-input-3-3878596822.py:64: DeprecationWarning: `example` has been deprecated, please use `examples` instead\n",
            "  def view_patient(patient_id :str = Path(..., description='ID of the patient in the DB', example='P001')):\n",
            "INFO:     Started server process [276]\n",
            "INFO:     Waiting for application startup.\n",
            "INFO:     Application startup complete.\n",
            "INFO:     Uvicorn running on http://0.0.0.0:8000 (Press CTRL+C to quit)\n"
          ]
        },
        {
          "output_type": "stream",
          "name": "stdout",
          "text": [
            "Public URL: NgrokTunnel: \"https://f9a3e8b9da3c.ngrok-free.app\" -> \"http://localhost:8000\"\n",
            "INFO:     167.103.7.98:0 - \"GET / HTTP/1.1\" 200 OK\n",
            "INFO:     167.103.7.98:0 - \"GET /favicon.ico HTTP/1.1\" 404 Not Found\n",
            "INFO:     167.103.7.98:0 - \"GET /docs HTTP/1.1\" 200 OK\n",
            "INFO:     167.103.7.98:0 - \"GET /openapi.json HTTP/1.1\" 200 OK\n",
            "INFO:     167.103.7.98:0 - \"POST /create HTTP/1.1\" 400 Bad Request\n",
            "INFO:     167.103.7.98:0 - \"POST /create HTTP/1.1\" 500 Internal Server Error\n"
          ]
        },
        {
          "output_type": "stream",
          "name": "stderr",
          "text": [
            "ERROR:    Exception in ASGI application\n",
            "Traceback (most recent call last):\n",
            "  File \"/usr/local/lib/python3.11/dist-packages/uvicorn/protocols/http/h11_impl.py\", line 403, in run_asgi\n",
            "    result = await app(  # type: ignore[func-returns-value]\n",
            "             ^^^^^^^^^^^^^^^^^^^^^^^^^^^^^^^^^^^^^^^^^^^^^^\n",
            "  File \"/usr/local/lib/python3.11/dist-packages/uvicorn/middleware/proxy_headers.py\", line 60, in __call__\n",
            "    return await self.app(scope, receive, send)\n",
            "           ^^^^^^^^^^^^^^^^^^^^^^^^^^^^^^^^^^^^\n",
            "  File \"/usr/local/lib/python3.11/dist-packages/fastapi/applications.py\", line 1054, in __call__\n",
            "    await super().__call__(scope, receive, send)\n",
            "  File \"/usr/local/lib/python3.11/dist-packages/starlette/applications.py\", line 112, in __call__\n",
            "    await self.middleware_stack(scope, receive, send)\n",
            "  File \"/usr/local/lib/python3.11/dist-packages/starlette/middleware/errors.py\", line 187, in __call__\n",
            "    raise exc\n",
            "  File \"/usr/local/lib/python3.11/dist-packages/starlette/middleware/errors.py\", line 165, in __call__\n",
            "    await self.app(scope, receive, _send)\n",
            "  File \"/usr/local/lib/python3.11/dist-packages/starlette/middleware/exceptions.py\", line 62, in __call__\n",
            "    await wrap_app_handling_exceptions(self.app, conn)(scope, receive, send)\n",
            "  File \"/usr/local/lib/python3.11/dist-packages/starlette/_exception_handler.py\", line 53, in wrapped_app\n",
            "    raise exc\n",
            "  File \"/usr/local/lib/python3.11/dist-packages/starlette/_exception_handler.py\", line 42, in wrapped_app\n",
            "    await app(scope, receive, sender)\n",
            "  File \"/usr/local/lib/python3.11/dist-packages/starlette/routing.py\", line 714, in __call__\n",
            "    await self.middleware_stack(scope, receive, send)\n",
            "  File \"/usr/local/lib/python3.11/dist-packages/starlette/routing.py\", line 734, in app\n",
            "    await route.handle(scope, receive, send)\n",
            "  File \"/usr/local/lib/python3.11/dist-packages/starlette/routing.py\", line 288, in handle\n",
            "    await self.app(scope, receive, send)\n",
            "  File \"/usr/local/lib/python3.11/dist-packages/starlette/routing.py\", line 76, in app\n",
            "    await wrap_app_handling_exceptions(app, request)(scope, receive, send)\n",
            "  File \"/usr/local/lib/python3.11/dist-packages/starlette/_exception_handler.py\", line 53, in wrapped_app\n",
            "    raise exc\n",
            "  File \"/usr/local/lib/python3.11/dist-packages/starlette/_exception_handler.py\", line 42, in wrapped_app\n",
            "    await app(scope, receive, sender)\n",
            "  File \"/usr/local/lib/python3.11/dist-packages/starlette/routing.py\", line 73, in app\n",
            "    response = await f(request)\n",
            "               ^^^^^^^^^^^^^^^^\n",
            "  File \"/usr/local/lib/python3.11/dist-packages/fastapi/routing.py\", line 301, in app\n",
            "    raw_response = await run_endpoint_function(\n",
            "                   ^^^^^^^^^^^^^^^^^^^^^^^^^^^^\n",
            "  File \"/usr/local/lib/python3.11/dist-packages/fastapi/routing.py\", line 214, in run_endpoint_function\n",
            "    return await run_in_threadpool(dependant.call, **values)\n",
            "           ^^^^^^^^^^^^^^^^^^^^^^^^^^^^^^^^^^^^^^^^^^^^^^^^^\n",
            "  File \"/usr/local/lib/python3.11/dist-packages/starlette/concurrency.py\", line 37, in run_in_threadpool\n",
            "    return await anyio.to_thread.run_sync(func)\n",
            "           ^^^^^^^^^^^^^^^^^^^^^^^^^^^^^^^^^^^^\n",
            "  File \"/usr/local/lib/python3.11/dist-packages/anyio/to_thread.py\", line 56, in run_sync\n",
            "    return await get_async_backend().run_sync_in_worker_thread(\n",
            "           ^^^^^^^^^^^^^^^^^^^^^^^^^^^^^^^^^^^^^^^^^^^^^^^^^^^^\n",
            "  File \"/usr/local/lib/python3.11/dist-packages/anyio/_backends/_asyncio.py\", line 2470, in run_sync_in_worker_thread\n",
            "    return await future\n",
            "           ^^^^^^^^^^^^\n",
            "  File \"/usr/lib/python3.11/asyncio/futures.py\", line 287, in __await__\n",
            "    yield self  # This tells Task to wait for completion.\n",
            "    ^^^^^^^^^^\n",
            "  File \"/usr/lib/python3.11/asyncio/tasks.py\", line 349, in __wakeup\n",
            "    future.result()\n",
            "  File \"/usr/lib/python3.11/asyncio/futures.py\", line 203, in result\n",
            "    raise self._exception.with_traceback(self._exception_tb)\n",
            "  File \"/usr/local/lib/python3.11/dist-packages/anyio/_backends/_asyncio.py\", line 967, in run\n",
            "    result = context.run(func, *args)\n",
            "             ^^^^^^^^^^^^^^^^^^^^^^^^\n",
            "  File \"/tmp/ipython-input-3-3878596822.py\", line 95, in create_patient\n",
            "    data[patient.id] = patient.model_dump(exclude=['id'])\n",
            "                       ^^^^^^^^^^^^^^^^^^^^^^^^^^^^^^^^^^\n",
            "  File \"/usr/local/lib/python3.11/dist-packages/pydantic/main.py\", line 463, in model_dump\n",
            "    return self.__pydantic_serializer__.to_python(\n",
            "           ^^^^^^^^^^^^^^^^^^^^^^^^^^^^^^^^^^^^^^^\n",
            "  File \"/tmp/ipython-input-3-3878596822.py\", line 32, in verdict\n",
            "    if self.bmi <18.5:\n",
            "       ^^^^^^^^^^^^^^\n",
            "TypeError: '<' not supported between instances of 'NoneType' and 'float'\n",
            "INFO:     Shutting down\n",
            "INFO:     Waiting for application shutdown.\n",
            "INFO:     Application shutdown complete.\n",
            "INFO:     Finished server process [276]\n"
          ]
        }
      ]
    },
    {
      "cell_type": "code",
      "source": [],
      "metadata": {
        "id": "JXGAVNa4XWHT"
      },
      "execution_count": null,
      "outputs": []
    }
  ],
  "metadata": {
    "colab": {
      "name": "Welcome to Colab",
      "provenance": [],
      "include_colab_link": true
    },
    "kernelspec": {
      "display_name": "Python 3",
      "name": "python3"
    }
  },
  "nbformat": 4,
  "nbformat_minor": 0
}