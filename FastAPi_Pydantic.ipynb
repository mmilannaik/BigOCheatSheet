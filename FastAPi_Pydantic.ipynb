{
  "cells": [
    {
      "cell_type": "markdown",
      "metadata": {
        "id": "view-in-github",
        "colab_type": "text"
      },
      "source": [
        "<a href=\"https://colab.research.google.com/github/mmilannaik/BigOCheatSheet/blob/master/FastAPi_Pydantic.ipynb\" target=\"_parent\"><img src=\"https://colab.research.google.com/assets/colab-badge.svg\" alt=\"Open In Colab\"/></a>"
      ]
    },
    {
      "cell_type": "markdown",
      "source": [
        "# Why Pydantic"
      ],
      "metadata": {
        "id": "4BUB4zmyWKIY"
      }
    },
    {
      "cell_type": "code",
      "source": [
        "pip install pydantic[email]"
      ],
      "metadata": {
        "id": "jdvxWIpn3jMx",
        "outputId": "6a37a56f-114d-45de-e390-a7c275aa7f54",
        "colab": {
          "base_uri": "https://localhost:8080/"
        }
      },
      "execution_count": 17,
      "outputs": [
        {
          "output_type": "stream",
          "name": "stdout",
          "text": [
            "Requirement already satisfied: pydantic[email] in /usr/local/lib/python3.11/dist-packages (2.11.7)\n",
            "Requirement already satisfied: annotated-types>=0.6.0 in /usr/local/lib/python3.11/dist-packages (from pydantic[email]) (0.7.0)\n",
            "Requirement already satisfied: pydantic-core==2.33.2 in /usr/local/lib/python3.11/dist-packages (from pydantic[email]) (2.33.2)\n",
            "Requirement already satisfied: typing-extensions>=4.12.2 in /usr/local/lib/python3.11/dist-packages (from pydantic[email]) (4.14.1)\n",
            "Requirement already satisfied: typing-inspection>=0.4.0 in /usr/local/lib/python3.11/dist-packages (from pydantic[email]) (0.4.1)\n",
            "Collecting email-validator>=2.0.0 (from pydantic[email])\n",
            "  Downloading email_validator-2.2.0-py3-none-any.whl.metadata (25 kB)\n",
            "Collecting dnspython>=2.0.0 (from email-validator>=2.0.0->pydantic[email])\n",
            "  Downloading dnspython-2.7.0-py3-none-any.whl.metadata (5.8 kB)\n",
            "Requirement already satisfied: idna>=2.0.0 in /usr/local/lib/python3.11/dist-packages (from email-validator>=2.0.0->pydantic[email]) (3.10)\n",
            "Downloading email_validator-2.2.0-py3-none-any.whl (33 kB)\n",
            "Downloading dnspython-2.7.0-py3-none-any.whl (313 kB)\n",
            "\u001b[2K   \u001b[90m━━━━━━━━━━━━━━━━━━━━━━━━━━━━━━━━━━━━━━━━\u001b[0m \u001b[32m313.6/313.6 kB\u001b[0m \u001b[31m22.2 MB/s\u001b[0m eta \u001b[36m0:00:00\u001b[0m\n",
            "\u001b[?25hInstalling collected packages: dnspython, email-validator\n",
            "Successfully installed dnspython-2.7.0 email-validator-2.2.0\n"
          ]
        }
      ]
    },
    {
      "cell_type": "code",
      "source": [
        "from pydantic import BaseModel,EmailStr,AnyUrl,Field,field_validator,model_validator,computed_field\n",
        "from typing import List,Dict,Optional,Annotated"
      ],
      "metadata": {
        "id": "szLkYAx4WIRJ"
      },
      "execution_count": 47,
      "outputs": []
    },
    {
      "cell_type": "code",
      "source": [
        "class Patient(BaseModel):\n",
        "  name : str\n",
        "  age :int\n",
        "\n",
        "def insert_patient_data(patient: Patient):\n",
        "  print(patient.name)\n",
        "  print(patient.age)\n",
        "  print('inserted')\n",
        "\n",
        "patient_info = {'name':'nitish','age':30}\n",
        "\n",
        "patient1 = Patient(**patient_info)\n",
        "\n",
        "insert_patient_data(patient1)"
      ],
      "metadata": {
        "id": "TmAkKOsWWPol",
        "outputId": "e9ac3d56-3f81-4bf7-c9a9-3fd88c20cf11",
        "colab": {
          "base_uri": "https://localhost:8080/"
        }
      },
      "execution_count": 27,
      "outputs": [
        {
          "output_type": "stream",
          "name": "stdout",
          "text": [
            "nitish\n",
            "30\n",
            "inserted\n"
          ]
        }
      ]
    },
    {
      "cell_type": "markdown",
      "source": [
        "It helps in data validation and type validation"
      ],
      "metadata": {
        "id": "VHy8MF8vXiYM"
      }
    },
    {
      "cell_type": "markdown",
      "source": [
        "# New Pydantic model"
      ],
      "metadata": {
        "id": "F1kR1unwXmW8"
      }
    },
    {
      "cell_type": "code",
      "source": [
        "class Patient(BaseModel):\n",
        "  name : Annotated[str,Field(max_lenth = 50,title ='Name of patient',\n",
        "                             description='Provide the name of patient in less than 50 chars',examples = ['Nitish','Amit'])]\n",
        "  email : EmailStr\n",
        "  linkedin_url : AnyUrl\n",
        "  age :int =Field(gt=0,lt=140)\n",
        "  weight: float = Field(gt=0)\n",
        "  height : float\n",
        "  married: bool = False\n",
        "  allergies: Optional[List[str]] = None\n",
        "  contact_details: Dict[str,str]\n",
        "\n",
        "\n",
        "  @field_validator('email')\n",
        "  @classmethod\n",
        "  def email_validator(cls,value):\n",
        "    valid_domains = ['hdfc.com','icici.com']\n",
        "    #abc@gmail.com\n",
        "    domain_name = value.split('@')[-1]\n",
        "    if domain_name not in valid_domains:\n",
        "      raise ValueError('Not a valid domain')\n",
        "    return value\n",
        "\n",
        "  @field_validator('name')\n",
        "  @classmethod\n",
        "  def transform_name(cls,value):\n",
        "    return value.upper()\n",
        "\n",
        "  @field_validator('age',mode='after')\n",
        "  @classmethod\n",
        "  def validate_age(cls,value):\n",
        "    if 0<value<140:\n",
        "      return value\n",
        "    else:\n",
        "      raise ValueError('Age shpuld be in between 0 and 100')\n",
        "\n",
        "  @model_validator(mode='after')\n",
        "  def validate_emergency_contact(cls,model):\n",
        "    if model.age>60 and 'emergency' not in model.contact_details:\n",
        "      raise ValueError('Patients older than 60 must have an emergency contact')\n",
        "    return model\n",
        "\n",
        "  @computed_field\n",
        "  @property\n",
        "  def bmi(self)-> float:\n",
        "    bmi = round(self.weight/(self.height**2),2)\n",
        "    return bmi\n",
        "\n",
        "def insert_patient_data(patient: Patient):\n",
        "  print(patient.name)\n",
        "  print(patient.age)\n",
        "  print(patient.allergies)\n",
        "  print('BMI', patient.bmi)\n",
        "  print('inserted')\n",
        "\n",
        "patient_info = {'name':'nitish','age':130,'weight':75,'married':True,'email':'abc@hdfc.com',\n",
        "                'linkedin_url':\"https://linkedin.com/abc123\",'height':1.75,\n",
        "                'contact_details':{'email':'abc@gmail.com','phone':'2353462','emergency':'12345'}}\n",
        "\n",
        "patient1 = Patient(**patient_info)\n",
        "\n",
        "insert_patient_data(patient1)\n"
      ],
      "metadata": {
        "id": "5IFhVGWcWOl6",
        "outputId": "327cc105-52d8-4f9c-ec50-cb45348852e1",
        "colab": {
          "base_uri": "https://localhost:8080/"
        }
      },
      "execution_count": 53,
      "outputs": [
        {
          "output_type": "stream",
          "name": "stdout",
          "text": [
            "NITISH\n",
            "130\n",
            "None\n",
            "BMI 24.49\n",
            "inserted\n"
          ]
        }
      ]
    },
    {
      "cell_type": "markdown",
      "source": [
        "# Nested Models"
      ],
      "metadata": {
        "id": "YmT0wkJkHd7-"
      }
    },
    {
      "cell_type": "code",
      "source": [
        "from pydantic import BaseModel\n",
        "\n",
        "class Address(BaseModel):\n",
        "\n",
        "    city: str\n",
        "    state: str\n",
        "    pin: str\n",
        "\n",
        "class Patient(BaseModel):\n",
        "\n",
        "    name: str\n",
        "    gender: str\n",
        "    age: int\n",
        "    address: Address\n",
        "\n",
        "address_dict = {'city': 'gurgaon', 'state': 'haryana', 'pin': '122001'}\n",
        "\n",
        "address1 = Address(**address_dict)\n",
        "\n",
        "patient_dict = {'name': 'nitish', 'gender': 'male', 'age': 35, 'address': address1}\n",
        "\n",
        "patient1 = Patient(**patient_dict)\n",
        "\n",
        "temp = patient1.model_dump()\n",
        "\n",
        "print(type(temp))"
      ],
      "metadata": {
        "id": "0k5dc-wMcw0A",
        "outputId": "51de0ce1-ecc9-4a5d-c077-2b5709b0709a",
        "colab": {
          "base_uri": "https://localhost:8080/"
        }
      },
      "execution_count": 55,
      "outputs": [
        {
          "output_type": "stream",
          "name": "stdout",
          "text": [
            "<class 'dict'>\n"
          ]
        }
      ]
    },
    {
      "cell_type": "code",
      "source": [],
      "metadata": {
        "id": "Q0QqcLaJHxv-"
      },
      "execution_count": null,
      "outputs": []
    }
  ],
  "metadata": {
    "colab": {
      "name": "Welcome to Colab",
      "toc_visible": true,
      "provenance": [],
      "include_colab_link": true
    },
    "kernelspec": {
      "display_name": "Python 3",
      "name": "python3"
    }
  },
  "nbformat": 4,
  "nbformat_minor": 0
}