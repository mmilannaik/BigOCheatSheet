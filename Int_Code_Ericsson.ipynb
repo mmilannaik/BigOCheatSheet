{
  "cells": [
    {
      "cell_type": "markdown",
      "metadata": {
        "id": "view-in-github",
        "colab_type": "text"
      },
      "source": [
        "<a href=\"https://colab.research.google.com/github/mmilannaik/BigOCheatSheet/blob/master/Int_Code_Ericsson.ipynb\" target=\"_parent\"><img src=\"https://colab.research.google.com/assets/colab-badge.svg\" alt=\"Open In Colab\"/></a>"
      ]
    },
    {
      "cell_type": "code",
      "source": [
        "import random"
      ],
      "metadata": {
        "id": "VNziwnsW9jv2"
      },
      "execution_count": 1,
      "outputs": []
    },
    {
      "cell_type": "code",
      "source": [
        "random.randint(0,100)"
      ],
      "metadata": {
        "id": "9_vAIaFv9kU2",
        "outputId": "f85f5159-0940-4171-b9c4-a3ebdceb9c6e",
        "colab": {
          "base_uri": "https://localhost:8080/"
        }
      },
      "execution_count": 2,
      "outputs": [
        {
          "output_type": "execute_result",
          "data": {
            "text/plain": [
              "95"
            ]
          },
          "metadata": {},
          "execution_count": 2
        }
      ]
    },
    {
      "cell_type": "code",
      "source": [
        "out = []\n",
        "def get_random_list(count):\n",
        " i=0\n",
        " while i <count:\n",
        "  out.append(random.randint(1,100))\n",
        "  i+=1\n",
        " return out\n",
        "\n",
        "get_random_list(4)"
      ],
      "metadata": {
        "id": "ghJQZRaD-EKE",
        "outputId": "56ba4209-9a86-43a3-c2db-434e8d8820c4",
        "colab": {
          "base_uri": "https://localhost:8080/"
        }
      },
      "execution_count": 5,
      "outputs": [
        {
          "output_type": "execute_result",
          "data": {
            "text/plain": [
              "[74, 60, 97, 44]"
            ]
          },
          "metadata": {},
          "execution_count": 5
        }
      ]
    },
    {
      "cell_type": "code",
      "source": [
        "out"
      ],
      "metadata": {
        "id": "5LVdL2xo-kP5",
        "outputId": "2b07555d-5ab6-4920-ad27-2f52095a8def",
        "colab": {
          "base_uri": "https://localhost:8080/"
        }
      },
      "execution_count": 6,
      "outputs": [
        {
          "output_type": "execute_result",
          "data": {
            "text/plain": [
              "[74, 60, 97, 44]"
            ]
          },
          "metadata": {},
          "execution_count": 6
        }
      ]
    },
    {
      "cell_type": "code",
      "source": [
        "def smallest(my_list):\n",
        "  small = my_list[0]\n",
        "  for num in my_list[1:]:\n",
        "    if num < small:\n",
        "      small = num\n",
        "  return small\n",
        "\n",
        "smallest(out)"
      ],
      "metadata": {
        "id": "-_KN2P5n_IjX",
        "outputId": "b646a610-e3c7-4214-85ab-d01b242dde5b",
        "colab": {
          "base_uri": "https://localhost:8080/"
        }
      },
      "execution_count": 10,
      "outputs": [
        {
          "output_type": "execute_result",
          "data": {
            "text/plain": [
              "44"
            ]
          },
          "metadata": {},
          "execution_count": 10
        }
      ]
    },
    {
      "cell_type": "code",
      "source": [
        "out"
      ],
      "metadata": {
        "id": "hIkVuA3L_f76",
        "outputId": "1096c4fe-f33b-438e-c7bd-14e7ab6afe99",
        "colab": {
          "base_uri": "https://localhost:8080/"
        }
      },
      "execution_count": 8,
      "outputs": [
        {
          "output_type": "execute_result",
          "data": {
            "text/plain": [
              "[74, 60, 97, 44]"
            ]
          },
          "metadata": {},
          "execution_count": 8
        }
      ]
    },
    {
      "cell_type": "code",
      "source": [
        "smallest"
      ],
      "metadata": {
        "id": "Tp7LAqX2_ii6"
      },
      "execution_count": null,
      "outputs": []
    },
    {
      "cell_type": "code",
      "source": [
        "json_str = \"\"\"[{\"name\":\"One\", \"value\": 1},\n",
        "               {\"name\":\"Two\", \"value\": 2},\n",
        "               {\"name\":\"Three\", \"value\": \"three\"},\n",
        "               {\"name\":\"Four\", \"value\": 4, \"is_valid\": false},\n",
        "               {\"name\":\"One\", \"value\": 1, \"is_valid\": true}]\"\"\""
      ],
      "metadata": {
        "id": "ZvxjfbTRAarP"
      },
      "execution_count": 11,
      "outputs": []
    },
    {
      "cell_type": "code",
      "source": [
        "type(json_str)"
      ],
      "metadata": {
        "id": "KgoilNQ_AsI2",
        "outputId": "0711bcec-a1ac-4647-e998-891498ae886b",
        "colab": {
          "base_uri": "https://localhost:8080/"
        }
      },
      "execution_count": 12,
      "outputs": [
        {
          "output_type": "execute_result",
          "data": {
            "text/plain": [
              "str"
            ]
          },
          "metadata": {},
          "execution_count": 12
        }
      ]
    },
    {
      "cell_type": "code",
      "source": [
        "json_str"
      ],
      "metadata": {
        "id": "CGzKbHBtAtzn",
        "outputId": "cb775c69-f54a-4b34-f03f-5cf5d0b57567",
        "colab": {
          "base_uri": "https://localhost:8080/",
          "height": 52
        }
      },
      "execution_count": 13,
      "outputs": [
        {
          "output_type": "execute_result",
          "data": {
            "text/plain": [
              "'[{\"name\":\"One\", \"value\": 1},\\n               {\"name\":\"Two\", \"value\": 2},\\n               {\"name\":\"Three\", \"value\": \"three\"},\\n               {\"name\":\"Four\", \"value\": 4, \"is_valid\": false},\\n               {\"name\":\"One\", \"value\": 1, \"is_valid\": true}]'"
            ],
            "application/vnd.google.colaboratory.intrinsic+json": {
              "type": "string"
            }
          },
          "metadata": {},
          "execution_count": 13
        }
      ]
    },
    {
      "cell_type": "code",
      "source": [
        "json_str.to_json()"
      ],
      "metadata": {
        "id": "LexsJYc1AvJN",
        "outputId": "100390ed-772a-44d9-eea5-0e5ac66c6682",
        "colab": {
          "base_uri": "https://localhost:8080/",
          "height": 141
        }
      },
      "execution_count": 15,
      "outputs": [
        {
          "output_type": "error",
          "ename": "AttributeError",
          "evalue": "'str' object has no attribute 'to_json'",
          "traceback": [
            "\u001b[0;31m---------------------------------------------------------------------------\u001b[0m",
            "\u001b[0;31mAttributeError\u001b[0m                            Traceback (most recent call last)",
            "\u001b[0;32m/tmp/ipython-input-3940814596.py\u001b[0m in \u001b[0;36m<cell line: 0>\u001b[0;34m()\u001b[0m\n\u001b[0;32m----> 1\u001b[0;31m \u001b[0mjson_str\u001b[0m\u001b[0;34m.\u001b[0m\u001b[0mto_json\u001b[0m\u001b[0;34m(\u001b[0m\u001b[0;34m)\u001b[0m\u001b[0;34m\u001b[0m\u001b[0;34m\u001b[0m\u001b[0m\n\u001b[0m",
            "\u001b[0;31mAttributeError\u001b[0m: 'str' object has no attribute 'to_json'"
          ]
        }
      ]
    },
    {
      "cell_type": "code",
      "source": [
        "import json\n",
        "json_data = json.loads(json_str)\n",
        "json_data"
      ],
      "metadata": {
        "id": "fQNMYHdgBAgf",
        "outputId": "bd36fb89-fef6-4e10-c9b2-9236b4281b87",
        "colab": {
          "base_uri": "https://localhost:8080/"
        }
      },
      "execution_count": 16,
      "outputs": [
        {
          "output_type": "execute_result",
          "data": {
            "text/plain": [
              "[{'name': 'One', 'value': 1},\n",
              " {'name': 'Two', 'value': 2},\n",
              " {'name': 'Three', 'value': 'three'},\n",
              " {'name': 'Four', 'value': 4, 'is_valid': False},\n",
              " {'name': 'One', 'value': 1, 'is_valid': True}]"
            ]
          },
          "metadata": {},
          "execution_count": 16
        }
      ]
    },
    {
      "cell_type": "code",
      "source": [
        "out = []\n",
        "for item in json_data:\n",
        "\n",
        "  if item.get('is_valid',True):\n",
        "   out.append(item)"
      ],
      "metadata": {
        "id": "vI2LWOBdBY14"
      },
      "execution_count": 31,
      "outputs": []
    },
    {
      "cell_type": "code",
      "source": [
        "out"
      ],
      "metadata": {
        "id": "nWMv-ZyQFWq4",
        "outputId": "3a41405d-5abf-4528-9ab7-6e811394d1e6",
        "colab": {
          "base_uri": "https://localhost:8080/"
        }
      },
      "execution_count": 32,
      "outputs": [
        {
          "output_type": "execute_result",
          "data": {
            "text/plain": [
              "[{'name': 'One', 'value': 1},\n",
              " {'name': 'Two', 'value': 2},\n",
              " {'name': 'Three', 'value': 'three'},\n",
              " {'name': 'One', 'value': 1, 'is_valid': True}]"
            ]
          },
          "metadata": {},
          "execution_count": 32
        }
      ]
    },
    {
      "cell_type": "code",
      "source": [
        "out"
      ],
      "metadata": {
        "id": "-W-9Xa3eBj6E",
        "outputId": "881d7403-3044-4d34-822c-ba2dd9c9af27",
        "colab": {
          "base_uri": "https://localhost:8080/"
        }
      },
      "execution_count": 30,
      "outputs": [
        {
          "output_type": "execute_result",
          "data": {
            "text/plain": [
              "[{'name': 'One', 'value': 1},\n",
              " {'name': 'Two', 'value': 2},\n",
              " {'name': 'Three', 'value': 'three'},\n",
              " {'name': 'One', 'value': 1, 'is_valid': True}]"
            ]
          },
          "metadata": {},
          "execution_count": 30
        }
      ]
    },
    {
      "cell_type": "code",
      "source": [
        "for item in json_data:\n",
        "  print(item['is_valid'])"
      ],
      "metadata": {
        "id": "PX1x64eWB-YJ",
        "outputId": "68688335-7ad4-4267-916c-4b21a27a30c2",
        "colab": {
          "base_uri": "https://localhost:8080/",
          "height": 159
        }
      },
      "execution_count": 24,
      "outputs": [
        {
          "output_type": "error",
          "ename": "KeyError",
          "evalue": "'is_valid'",
          "traceback": [
            "\u001b[0;31m---------------------------------------------------------------------------\u001b[0m",
            "\u001b[0;31mKeyError\u001b[0m                                  Traceback (most recent call last)",
            "\u001b[0;32m/tmp/ipython-input-3807224997.py\u001b[0m in \u001b[0;36m<cell line: 0>\u001b[0;34m()\u001b[0m\n\u001b[1;32m      1\u001b[0m \u001b[0;32mfor\u001b[0m \u001b[0mitem\u001b[0m \u001b[0;32min\u001b[0m \u001b[0mjson_data\u001b[0m\u001b[0;34m:\u001b[0m\u001b[0;34m\u001b[0m\u001b[0;34m\u001b[0m\u001b[0m\n\u001b[0;32m----> 2\u001b[0;31m   \u001b[0mprint\u001b[0m\u001b[0;34m(\u001b[0m\u001b[0mitem\u001b[0m\u001b[0;34m[\u001b[0m\u001b[0;34m'is_valid'\u001b[0m\u001b[0;34m]\u001b[0m\u001b[0;34m)\u001b[0m\u001b[0;34m\u001b[0m\u001b[0;34m\u001b[0m\u001b[0m\n\u001b[0m",
            "\u001b[0;31mKeyError\u001b[0m: 'is_valid'"
          ]
        }
      ]
    },
    {
      "cell_type": "code",
      "source": [
        "key,value = item.items()"
      ],
      "metadata": {
        "id": "T_4eBcoCCNoN"
      },
      "execution_count": null,
      "outputs": []
    },
    {
      "cell_type": "code",
      "source": [
        "infra team: automation solution, day to day activitity, problems.metrics\n",
        "pattern analysis, anaomaly, solve,\n",
        "correlation metrics: KPI\n",
        "Predictive analysis\n",
        "GenAI- solution, RAG & Identifying agentic automations-Use of LLMs\n",
        "Most of our work : Data engineering, data pipeline, building Model pattern recognition & GenAI solutions\n"
      ],
      "metadata": {
        "id": "qBGiPpCVF8Eu"
      },
      "execution_count": null,
      "outputs": []
    }
  ],
  "metadata": {
    "colab": {
      "name": "Welcome to Colab",
      "provenance": [],
      "include_colab_link": true
    },
    "kernelspec": {
      "display_name": "Python 3",
      "name": "python3"
    }
  },
  "nbformat": 4,
  "nbformat_minor": 0
}